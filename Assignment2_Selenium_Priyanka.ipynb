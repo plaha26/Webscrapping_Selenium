{
 "cells": [
  {
   "cell_type": "code",
   "execution_count": null,
   "metadata": {},
   "outputs": [],
   "source": [
    "Webscrapping :Assignment2: Priyanka Laha"
   ]
  },
  {
   "cell_type": "code",
   "execution_count": 10,
   "metadata": {},
   "outputs": [],
   "source": [
    "#!pip install selenium"
   ]
  },
  {
   "cell_type": "markdown",
   "metadata": {},
   "source": [
    "Q1: Write a python program to scrape data for “Data Analyst” Job position in \n",
    "“Bangalore” location. You have to scrape the job-title, job-location, company_name,\n",
    "experience_required. You have to scrape first 10 jobs data.\n",
    "This task will be done in following steps:\n",
    "1. first get the webpage https://www.naukri.com/\n",
    "2. Enter “Data Analyst” in “Skill,Designations,Companies” field and enter “Bangalore” \n",
    "in “enter the location” field.\n",
    "3. Then click the search button.\n",
    "4. Then scrape the data for the first 10 jobs results you get.\n",
    "5. Finally create a dataframe of the scraped data.\n",
    "Note- All of the above steps have to be done in code. No step is to be done manually.\n"
   ]
  },
  {
   "cell_type": "code",
   "execution_count": 74,
   "metadata": {},
   "outputs": [],
   "source": [
    "#Importing required packages\n",
    "import selenium\n",
    "import pandas as pd\n",
    "from selenium import webdriver\n",
    "from selenium.common.exceptions import NoSuchElementException"
   ]
  },
  {
   "cell_type": "code",
   "execution_count": 75,
   "metadata": {},
   "outputs": [],
   "source": [
    "driver=webdriver.Chrome(r\"chromedriver.exe\")"
   ]
  },
  {
   "cell_type": "code",
   "execution_count": 76,
   "metadata": {},
   "outputs": [],
   "source": [
    "url='https://www.naukri.com/'\n",
    "driver.get(url)#getting the url"
   ]
  },
  {
   "cell_type": "code",
   "execution_count": 77,
   "metadata": {},
   "outputs": [],
   "source": [
    "search_job=driver.find_element_by_id(\"qsb-keyword-sugg\")\n",
    "#search_job\n",
    "search_job.send_keys(\"Data Analyst\")#Search job type by id"
   ]
  },
  {
   "cell_type": "code",
   "execution_count": 78,
   "metadata": {},
   "outputs": [],
   "source": [
    "search_loc=driver.find_element_by_id(\"qsb-location-sugg\")\n",
    "#search_loc\n",
    "search_loc.send_keys(\"Bangalore\")#Search location by id"
   ]
  },
  {
   "cell_type": "code",
   "execution_count": 79,
   "metadata": {},
   "outputs": [],
   "source": [
    "search_btn=driver.find_element_by_xpath(\"//button[@class='btn']\")\n",
    "#search_btn\n",
    "search_btn.click()#Search button click by xpath"
   ]
  },
  {
   "cell_type": "code",
   "execution_count": 80,
   "metadata": {},
   "outputs": [
    {
     "data": {
      "text/plain": [
       "['Data Analyst',\n",
       " 'Data Analyst',\n",
       " 'Senior Data Analyst',\n",
       " 'Senior Business Analyst- Data Science',\n",
       " 'Business/Data Analyst - Colleague Experience & Technology',\n",
       " 'Senior Data Analyst',\n",
       " 'Senior Data Analyst - Einstein Analytics',\n",
       " 'Senior Specialist - Data Analyst',\n",
       " 'Data Analyst - Python',\n",
       " 'Data Analyst - 0-2 years (6 month contract)',\n",
       " 'Business/Data Analyst - SSE/LA',\n",
       " 'Senior Data Analyst',\n",
       " 'SQL Data Analyst',\n",
       " 'Business Data Analyst',\n",
       " 'Business Data Analyst',\n",
       " 'Data Analyst',\n",
       " 'Immediate Hiring For Data Analyst - Bangalore location',\n",
       " 'Data Analyst - Transportation',\n",
       " 'DMI Hiring Data Analyst in Bangalore',\n",
       " 'Data Analyst/Business Analyst-Gurgaon/Bangalore/Mumbai (only Females)']"
      ]
     },
     "execution_count": 80,
     "metadata": {},
     "output_type": "execute_result"
    }
   ],
   "source": [
    "titles_tags=driver.find_elements_by_xpath(\"//a[@class='title fw500 ellipsis']\")#Scrapping job title by xpath\n",
    "#titles_tags\n",
    "job_titles=[]\n",
    "for i in titles_tags:\n",
    "    job_titles.append(i.text)\n",
    "\n",
    "job_titles    "
   ]
  },
  {
   "cell_type": "code",
   "execution_count": 81,
   "metadata": {},
   "outputs": [
    {
     "data": {
      "text/plain": [
       "['CAREERLABS TECHNOLOGIES PRIVATE LIMITED',\n",
       " 'Tata Consultancy Services Ltd.',\n",
       " 'Nx-DT',\n",
       " 'Evalueserve.com Pvt. Ltd',\n",
       " 'Vmware',\n",
       " 'Telstra India Pvt Ltd',\n",
       " 'Enquero',\n",
       " 'Philips India Limited',\n",
       " 'Suyati Technologies Pvt Ltd',\n",
       " 'NIUM INDIA PRIVATE LIMITED',\n",
       " 'CGI Information Systems and Management Consultants',\n",
       " 'Liventus, Inc.',\n",
       " 'NetApp',\n",
       " 'Trigent Software',\n",
       " 'Trigent Software',\n",
       " 'ENCORA INNOVATION LABS INDIA PRIVATE LIMITED',\n",
       " 'Wissen Technology',\n",
       " 'Gojek Tech',\n",
       " 'DMI Innovations Pvt. Ltd',\n",
       " 'India Medtronic Pvt. Ltd,.']"
      ]
     },
     "execution_count": 81,
     "metadata": {},
     "output_type": "execute_result"
    }
   ],
   "source": [
    "company_tags=driver.find_elements_by_xpath(\"//a[@class='subTitle ellipsis fleft']\")#Scrapping Company details by xpath\n",
    "#company_tags\n",
    "company_name=[]\n",
    "for i in company_tags:\n",
    "    company_name.append(i.text)\n",
    "\n",
    "company_name"
   ]
  },
  {
   "cell_type": "code",
   "execution_count": 82,
   "metadata": {},
   "outputs": [
    {
     "data": {
      "text/plain": [
       "['0-3 Yrs',\n",
       " '4-8 Yrs',\n",
       " '10-16 Yrs',\n",
       " '2-7 Yrs',\n",
       " '3-8 Yrs',\n",
       " '7-8 Yrs',\n",
       " '3-5 Yrs',\n",
       " '4-8 Yrs',\n",
       " '4-6 Yrs',\n",
       " '0-2 Yrs',\n",
       " '2-5 Yrs',\n",
       " '5-8 Yrs',\n",
       " '3-7 Yrs',\n",
       " '3-5 Yrs',\n",
       " '3-5 Yrs',\n",
       " '5-8 Yrs',\n",
       " '1-6 Yrs',\n",
       " '2-5 Yrs',\n",
       " '4-8 Yrs',\n",
       " '1-4 Yrs']"
      ]
     },
     "execution_count": 82,
     "metadata": {},
     "output_type": "execute_result"
    }
   ],
   "source": [
    "experience_tags=driver.find_elements_by_xpath(\"//li[@class='fleft grey-text br2 placeHolderLi experience']\")#Scrapping experience by xpath\n",
    "#company_tags\n",
    "experience=[]\n",
    "for i in experience_tags:\n",
    "    experience.append(i.text)\n",
    "experience"
   ]
  },
  {
   "cell_type": "code",
   "execution_count": 83,
   "metadata": {},
   "outputs": [
    {
     "data": {
      "text/html": [
       "<div>\n",
       "<style scoped>\n",
       "    .dataframe tbody tr th:only-of-type {\n",
       "        vertical-align: middle;\n",
       "    }\n",
       "\n",
       "    .dataframe tbody tr th {\n",
       "        vertical-align: top;\n",
       "    }\n",
       "\n",
       "    .dataframe thead th {\n",
       "        text-align: right;\n",
       "    }\n",
       "</style>\n",
       "<table border=\"1\" class=\"dataframe\">\n",
       "  <thead>\n",
       "    <tr style=\"text-align: right;\">\n",
       "      <th></th>\n",
       "      <th>Job Title</th>\n",
       "      <th>Company</th>\n",
       "      <th>Experience</th>\n",
       "    </tr>\n",
       "  </thead>\n",
       "  <tbody>\n",
       "    <tr>\n",
       "      <th>0</th>\n",
       "      <td>Data Analyst</td>\n",
       "      <td>CAREERLABS TECHNOLOGIES PRIVATE LIMITED</td>\n",
       "      <td>0-3 Yrs</td>\n",
       "    </tr>\n",
       "    <tr>\n",
       "      <th>1</th>\n",
       "      <td>Data Analyst</td>\n",
       "      <td>Tata Consultancy Services Ltd.</td>\n",
       "      <td>4-8 Yrs</td>\n",
       "    </tr>\n",
       "    <tr>\n",
       "      <th>2</th>\n",
       "      <td>Senior Data Analyst</td>\n",
       "      <td>Nx-DT</td>\n",
       "      <td>10-16 Yrs</td>\n",
       "    </tr>\n",
       "    <tr>\n",
       "      <th>3</th>\n",
       "      <td>Senior Business Analyst- Data Science</td>\n",
       "      <td>Evalueserve.com Pvt. Ltd</td>\n",
       "      <td>2-7 Yrs</td>\n",
       "    </tr>\n",
       "    <tr>\n",
       "      <th>4</th>\n",
       "      <td>Business/Data Analyst - Colleague Experience &amp;...</td>\n",
       "      <td>Vmware</td>\n",
       "      <td>3-8 Yrs</td>\n",
       "    </tr>\n",
       "    <tr>\n",
       "      <th>5</th>\n",
       "      <td>Senior Data Analyst</td>\n",
       "      <td>Telstra India Pvt Ltd</td>\n",
       "      <td>7-8 Yrs</td>\n",
       "    </tr>\n",
       "    <tr>\n",
       "      <th>6</th>\n",
       "      <td>Senior Data Analyst - Einstein Analytics</td>\n",
       "      <td>Enquero</td>\n",
       "      <td>3-5 Yrs</td>\n",
       "    </tr>\n",
       "    <tr>\n",
       "      <th>7</th>\n",
       "      <td>Senior Specialist - Data Analyst</td>\n",
       "      <td>Philips India Limited</td>\n",
       "      <td>4-8 Yrs</td>\n",
       "    </tr>\n",
       "    <tr>\n",
       "      <th>8</th>\n",
       "      <td>Data Analyst - Python</td>\n",
       "      <td>Suyati Technologies Pvt Ltd</td>\n",
       "      <td>4-6 Yrs</td>\n",
       "    </tr>\n",
       "    <tr>\n",
       "      <th>9</th>\n",
       "      <td>Data Analyst - 0-2 years (6 month contract)</td>\n",
       "      <td>NIUM INDIA PRIVATE LIMITED</td>\n",
       "      <td>0-2 Yrs</td>\n",
       "    </tr>\n",
       "  </tbody>\n",
       "</table>\n",
       "</div>"
      ],
      "text/plain": [
       "                                           Job Title  \\\n",
       "0                                       Data Analyst   \n",
       "1                                       Data Analyst   \n",
       "2                                Senior Data Analyst   \n",
       "3              Senior Business Analyst- Data Science   \n",
       "4  Business/Data Analyst - Colleague Experience &...   \n",
       "5                                Senior Data Analyst   \n",
       "6           Senior Data Analyst - Einstein Analytics   \n",
       "7                   Senior Specialist - Data Analyst   \n",
       "8                              Data Analyst - Python   \n",
       "9        Data Analyst - 0-2 years (6 month contract)   \n",
       "\n",
       "                                   Company Experience  \n",
       "0  CAREERLABS TECHNOLOGIES PRIVATE LIMITED    0-3 Yrs  \n",
       "1           Tata Consultancy Services Ltd.    4-8 Yrs  \n",
       "2                                    Nx-DT  10-16 Yrs  \n",
       "3                 Evalueserve.com Pvt. Ltd    2-7 Yrs  \n",
       "4                                   Vmware    3-8 Yrs  \n",
       "5                    Telstra India Pvt Ltd    7-8 Yrs  \n",
       "6                                  Enquero    3-5 Yrs  \n",
       "7                    Philips India Limited    4-8 Yrs  \n",
       "8              Suyati Technologies Pvt Ltd    4-6 Yrs  \n",
       "9               NIUM INDIA PRIVATE LIMITED    0-2 Yrs  "
      ]
     },
     "execution_count": 83,
     "metadata": {},
     "output_type": "execute_result"
    }
   ],
   "source": [
    "DatasAnalyst=pd.DataFrame({})#Creating dataframe\n",
    "DatasAnalyst['Job Title']=job_titles[:10]\n",
    "DatasAnalyst['Company']=company_name[:10]\n",
    "DatasAnalyst['Experience']=experience[:10]  \n",
    "DatasAnalyst"
   ]
  },
  {
   "cell_type": "markdown",
   "metadata": {},
   "source": [
    "Q2: Write a python program to scrape data for “Data Scientist” Job position in \n",
    "“Bangalore” location. You have to scrape the job-title, job-location,\n",
    "company_name, full job-description. You have to scrape first 10 jobs data.\n",
    "This task will be done in following steps:\n",
    "1. first get the webpage https://www.naukri.com/\n",
    "2. Enter “Data Scientist” in “Skill,Designations,Companies” field and enter \n",
    "“Bangalore” in “enter the location” field.\n",
    "3. Then click the search button.\n",
    "4. Then scrape the data for the first 10 jobs results you get.\n",
    "5. Finally create a dataframe of the scraped data.\n",
    "Note- 1. All of the above steps have to be done in code. No step is to be done \n",
    "manually."
   ]
  },
  {
   "cell_type": "code",
   "execution_count": 84,
   "metadata": {},
   "outputs": [],
   "source": [
    "driver=webdriver.Chrome(r\"chromedriver.exe\")"
   ]
  },
  {
   "cell_type": "code",
   "execution_count": 85,
   "metadata": {},
   "outputs": [],
   "source": [
    "url='https://www.naukri.com/'\n",
    "driver.get(url)"
   ]
  },
  {
   "cell_type": "code",
   "execution_count": 86,
   "metadata": {},
   "outputs": [],
   "source": [
    "search_job=driver.find_element_by_id(\"qsb-keyword-sugg\")\n",
    "#search_job\n",
    "search_job.send_keys(\"Data Scientist\")"
   ]
  },
  {
   "cell_type": "code",
   "execution_count": 87,
   "metadata": {},
   "outputs": [],
   "source": [
    "search_loc=driver.find_element_by_id(\"qsb-location-sugg\")\n",
    "#search_loc\n",
    "search_loc.send_keys(\"Bangalore\")"
   ]
  },
  {
   "cell_type": "code",
   "execution_count": 88,
   "metadata": {},
   "outputs": [],
   "source": [
    "search_btn=driver.find_element_by_xpath(\"//button[@class='btn']\")\n",
    "#search_btn\n",
    "search_btn.click()"
   ]
  },
  {
   "cell_type": "code",
   "execution_count": 89,
   "metadata": {},
   "outputs": [
    {
     "data": {
      "text/plain": [
       "['https://www.naukri.com/job-listings-data-scientist-senior-business-analyst-lead-analyst-evalueserve-com-pvt-ltd-gurgaon-gurugram-bangalore-bengaluru-2-to-7-years-110821005065?src=jobsearchDesk&sid=16288480406203764&xp=1&px=1',\n",
       " 'https://www.naukri.com/job-listings-senior-data-scientist-signify-bangalore-bengaluru-4-to-9-years-120821500683?src=jobsearchDesk&sid=16288480406203764&xp=2&px=1',\n",
       " 'https://www.naukri.com/job-listings-senior-data-scientist-analytics-luxoft-bangalore-bengaluru-5-to-10-years-120821501307?src=jobsearchDesk&sid=16288480406203764&xp=3&px=1',\n",
       " 'https://www.naukri.com/job-listings-data-scientist-advanced-analytics-ibm-india-pvt-limited-bangalore-bengaluru-5-to-10-years-110821906281?src=jobsearchDesk&sid=16288480406203764&xp=4&px=1',\n",
       " 'https://www.naukri.com/job-listings-data-scientist-ibm-india-pvt-limited-bangalore-bengaluru-3-to-6-years-120821907824?src=jobsearchDesk&sid=16288480406203764&xp=5&px=1',\n",
       " 'https://www.naukri.com/job-listings-senior-data-scientist-smiths-detection-systems-private-limited-bangalore-bengaluru-8-to-10-years-260721903257?src=jobsearchDesk&sid=16288480406203764&xp=6&px=1',\n",
       " 'https://www.naukri.com/job-listings-lead-data-scientist-transorg-solutions-services-p-ltd-bangalore-bengaluru-delhi-ncr-mumbai-all-areas-4-to-6-years-160721005471?src=jobsearchDesk&sid=16288480406203764&xp=7&px=1',\n",
       " 'https://www.naukri.com/job-listings-senior-data-scientist-philips-india-limited-bangalore-bengaluru-8-to-10-years-060821501599?src=jobsearchDesk&sid=16288480406203764&xp=8&px=1',\n",
       " 'https://www.naukri.com/job-listings-senior-data-scientist-kpo-talentco-search-pvt-ltd-mumbai-bangalore-bengaluru-delhi-ncr-6-to-10-years-110821908145?src=jobsearchDesk&sid=16288480406203764&xp=9&px=1',\n",
       " 'https://www.naukri.com/job-listings-senior-data-scientist-talentco-search-pvt-ltd-mumbai-delhi-ncr-bangalore-bengaluru-6-to-10-years-130821901245?src=jobsearchDesk&sid=16288480406203764&xp=10&px=1',\n",
       " 'https://www.naukri.com/job-listings-lead-data-scientist-retail-industry-ibm-india-pvt-limited-bangalore-bengaluru-7-to-10-years-100821908363?src=jobsearchDesk&sid=16288480406203764&xp=11&px=1',\n",
       " 'https://www.naukri.com/job-listings-senior-lead-data-scientist-superior-group-bangalore-bengaluru-6-to-11-years-100821500375?src=jobsearchDesk&sid=16288480406203764&xp=12&px=1',\n",
       " 'https://www.naukri.com/job-listings-advanced-data-scientist-exxon-mobil-corporation-bangalore-bengaluru-10-to-15-years-120821500623?src=jobsearchDesk&sid=16288480406203764&xp=13&px=1',\n",
       " 'https://www.naukri.com/job-listings-data-scientist-travel-centric-technology-bangalore-bengaluru-6-to-11-years-110821500209?src=jobsearchDesk&sid=16288480406203764&xp=14&px=1',\n",
       " 'https://www.naukri.com/job-listings-data-scientist-with-sas-musigma-business-solutions-private-limited-bangalore-bengaluru-3-to-8-years-130821002128?src=jobsearchDesk&sid=16288480406203764&xp=15&px=1',\n",
       " 'https://www.naukri.com/job-listings-data-scientist-cignex-datamatics-technologies-limited-bangalore-bengaluru-7-to-12-years-120821005670?src=jobsearchDesk&sid=16288480406203764&xp=16&px=1',\n",
       " 'https://www.naukri.com/job-listings-data-scientist-natural-language-processing-hyderabad-location-clifford-chance-business-services-private-limited-hyderabad-secunderabad-pune-chennai-bangalore-bengaluru-5-to-10-years-120821000435?src=jobsearchDesk&sid=16288480406203764&xp=17&px=1',\n",
       " 'https://www.naukri.com/job-listings-looking-for-data-scientist-for-chennai-location-intelizign-engineering-services-pvt-ltd-hyderabad-secunderabad-chennai-bangalore-bengaluru-3-to-7-years-110821004891?src=jobsearchDesk&sid=16288480406203764&xp=18&px=1',\n",
       " 'https://www.naukri.com/job-listings-data-scientist-elpis-it-solutions-pvt-ltd-bangalore-bengaluru-3-to-8-years-120821005878?src=jobsearchDesk&sid=16288480406203764&xp=19&px=1',\n",
       " 'https://www.naukri.com/job-listings-data-scientist-cognizant-technology-solutions-india-pvt-ltd-chennai-bangalore-bengaluru-10-to-12-years-090821904407?src=jobsearchDesk&sid=16288480406203764&xp=20&px=1']"
      ]
     },
     "execution_count": 89,
     "metadata": {},
     "output_type": "execute_result"
    }
   ],
   "source": [
    "job_opening_urls=[]\n",
    "url=driver.find_elements_by_xpath(\"//a[@class='title fw500 ellipsis']\")\n",
    "for i in url:\n",
    "    job_opening_urls.append(i.get_attribute('href'))\n",
    "job_opening_urls    "
   ]
  },
  {
   "cell_type": "code",
   "execution_count": 94,
   "metadata": {},
   "outputs": [
    {
     "data": {
      "text/plain": [
       "16"
      ]
     },
     "execution_count": 94,
     "metadata": {},
     "output_type": "execute_result"
    }
   ],
   "source": [
    "job_titles=[]\n",
    "for i in job_opening_urls:\n",
    "    driver.get(i)\n",
    "    try:\n",
    "        job_title=driver.find_element_by_xpath(\"//h1[@class='jd-header-title']\")\n",
    "        job_titles.append(job_title.text)\n",
    "    except:\n",
    "        pass\n",
    "len(job_titles)"
   ]
  },
  {
   "cell_type": "code",
   "execution_count": 95,
   "metadata": {},
   "outputs": [
    {
     "data": {
      "text/plain": [
       "16"
      ]
     },
     "execution_count": 95,
     "metadata": {},
     "output_type": "execute_result"
    }
   ],
   "source": [
    "location=[]\n",
    "for i in job_opening_urls:\n",
    "    driver.get(i)\n",
    "    try:\n",
    "        loc=driver.find_element_by_xpath(\"//div[@class='loc']//span[1]\")\n",
    "        location.append(loc.text)\n",
    "    except:\n",
    "        pass\n",
    "        \n",
    "len(location)"
   ]
  },
  {
   "cell_type": "code",
   "execution_count": 96,
   "metadata": {},
   "outputs": [
    {
     "data": {
      "text/plain": [
       "16"
      ]
     },
     "execution_count": 96,
     "metadata": {},
     "output_type": "execute_result"
    }
   ],
   "source": [
    "discription=[]\n",
    "for i in job_opening_urls:\n",
    "    driver.get(i)\n",
    "    try:\n",
    "        des=driver.find_element_by_xpath(\"//div[@class='dang-inner-html']\")\n",
    "        discription.append(des.text.replace(\"\\n\",\"\").strip())\n",
    "    except:\n",
    "        pass\n",
    "len(discription)"
   ]
  },
  {
   "cell_type": "code",
   "execution_count": 97,
   "metadata": {},
   "outputs": [
    {
     "data": {
      "text/plain": [
       "16"
      ]
     },
     "execution_count": 97,
     "metadata": {},
     "output_type": "execute_result"
    }
   ],
   "source": [
    "companyname=[]\n",
    "for i in job_opening_urls:\n",
    "    driver.get(i)\n",
    "    try:\n",
    "        cname=driver.find_element_by_xpath(\"//div[@class='jd-header-comp-name']\")\n",
    "        companyname.append(cname.text)\n",
    "    except:\n",
    "        pass\n",
    "len(companyname)"
   ]
  },
  {
   "cell_type": "code",
   "execution_count": 98,
   "metadata": {},
   "outputs": [
    {
     "data": {
      "text/html": [
       "<div>\n",
       "<style scoped>\n",
       "    .dataframe tbody tr th:only-of-type {\n",
       "        vertical-align: middle;\n",
       "    }\n",
       "\n",
       "    .dataframe tbody tr th {\n",
       "        vertical-align: top;\n",
       "    }\n",
       "\n",
       "    .dataframe thead th {\n",
       "        text-align: right;\n",
       "    }\n",
       "</style>\n",
       "<table border=\"1\" class=\"dataframe\">\n",
       "  <thead>\n",
       "    <tr style=\"text-align: right;\">\n",
       "      <th></th>\n",
       "      <th>Job Title</th>\n",
       "      <th>Company Name</th>\n",
       "      <th>Location</th>\n",
       "      <th>Description</th>\n",
       "    </tr>\n",
       "  </thead>\n",
       "  <tbody>\n",
       "    <tr>\n",
       "      <th>0</th>\n",
       "      <td>Data Scientist- Senior Business Analyst/Lead A...</td>\n",
       "      <td>Evalueserve.com Pvt. Ltd3.4(412 Reviews)</td>\n",
       "      <td>Gurgaon/Gurugram, Bangalore/Bengaluru</td>\n",
       "      <td>Job DescriptionUnderstand and design analytica...</td>\n",
       "    </tr>\n",
       "    <tr>\n",
       "      <th>1</th>\n",
       "      <td>Senior Data Scientist</td>\n",
       "      <td>Signify4.0(262 Reviews)</td>\n",
       "      <td>Bangalore/Bengaluru</td>\n",
       "      <td>What you ll doResearch, design and prototype r...</td>\n",
       "    </tr>\n",
       "    <tr>\n",
       "      <th>2</th>\n",
       "      <td>Senior Data Scientist (Analytics),</td>\n",
       "      <td>Luxoft4.4(73 Reviews)</td>\n",
       "      <td>Bangalore/Bengaluru</td>\n",
       "      <td>Data and Analytics Proposal Responses for Cros...</td>\n",
       "    </tr>\n",
       "    <tr>\n",
       "      <th>3</th>\n",
       "      <td>Lead Data Scientist</td>\n",
       "      <td>TransOrg Solutions Services (P) Ltd.</td>\n",
       "      <td>Bangalore/Bengaluru, Delhi / NCR, Mumbai (All ...</td>\n",
       "      <td>Roles and ResponsibilitiesWell-versed in quant...</td>\n",
       "    </tr>\n",
       "    <tr>\n",
       "      <th>4</th>\n",
       "      <td>Senior Data Scientist</td>\n",
       "      <td>Philips India Limited4.0(510 Reviews)</td>\n",
       "      <td>Bangalore/Bengaluru</td>\n",
       "      <td>Be a part of the Enterprise IT , Information a...</td>\n",
       "    </tr>\n",
       "    <tr>\n",
       "      <th>5</th>\n",
       "      <td>Senior Data Scientist - KPO</td>\n",
       "      <td>TalentCo Search Pvt Ltd</td>\n",
       "      <td>Mumbai, Bangalore/Bengaluru, Delhi / NCR</td>\n",
       "      <td>- Ability to understand a problem statement an...</td>\n",
       "    </tr>\n",
       "    <tr>\n",
       "      <th>6</th>\n",
       "      <td>Senior Data Scientist</td>\n",
       "      <td>TalentCo Search Pvt Ltd</td>\n",
       "      <td>Mumbai, Delhi / NCR, Bangalore/Bengaluru</td>\n",
       "      <td>- Ability to understand a problem statement an...</td>\n",
       "    </tr>\n",
       "    <tr>\n",
       "      <th>7</th>\n",
       "      <td>Senior/ Lead Data Scientist</td>\n",
       "      <td>Superior Group4.6(14 Reviews)</td>\n",
       "      <td>Bangalore/Bengaluru</td>\n",
       "      <td>Provide advanced analytical capabilities to su...</td>\n",
       "    </tr>\n",
       "    <tr>\n",
       "      <th>8</th>\n",
       "      <td>Advanced Data Scientist</td>\n",
       "      <td>Exxon Mobil Corporation3.7(179 Reviews)</td>\n",
       "      <td>Bangalore/Bengaluru</td>\n",
       "      <td>Job Role ResponsibilitiesBe a part of a growin...</td>\n",
       "    </tr>\n",
       "    <tr>\n",
       "      <th>9</th>\n",
       "      <td>Data Scientist</td>\n",
       "      <td>Travel Centric Technology4.2(2 Reviews)</td>\n",
       "      <td>Bangalore/Bengaluru</td>\n",
       "      <td>We are looking for a Data Scientist with 6+ ye...</td>\n",
       "    </tr>\n",
       "  </tbody>\n",
       "</table>\n",
       "</div>"
      ],
      "text/plain": [
       "                                           Job Title  \\\n",
       "0  Data Scientist- Senior Business Analyst/Lead A...   \n",
       "1                              Senior Data Scientist   \n",
       "2                 Senior Data Scientist (Analytics),   \n",
       "3                                Lead Data Scientist   \n",
       "4                              Senior Data Scientist   \n",
       "5                        Senior Data Scientist - KPO   \n",
       "6                              Senior Data Scientist   \n",
       "7                        Senior/ Lead Data Scientist   \n",
       "8                            Advanced Data Scientist   \n",
       "9                                     Data Scientist   \n",
       "\n",
       "                               Company Name  \\\n",
       "0  Evalueserve.com Pvt. Ltd3.4(412 Reviews)   \n",
       "1                   Signify4.0(262 Reviews)   \n",
       "2                     Luxoft4.4(73 Reviews)   \n",
       "3      TransOrg Solutions Services (P) Ltd.   \n",
       "4     Philips India Limited4.0(510 Reviews)   \n",
       "5                   TalentCo Search Pvt Ltd   \n",
       "6                   TalentCo Search Pvt Ltd   \n",
       "7             Superior Group4.6(14 Reviews)   \n",
       "8   Exxon Mobil Corporation3.7(179 Reviews)   \n",
       "9   Travel Centric Technology4.2(2 Reviews)   \n",
       "\n",
       "                                            Location  \\\n",
       "0              Gurgaon/Gurugram, Bangalore/Bengaluru   \n",
       "1                                Bangalore/Bengaluru   \n",
       "2                                Bangalore/Bengaluru   \n",
       "3  Bangalore/Bengaluru, Delhi / NCR, Mumbai (All ...   \n",
       "4                                Bangalore/Bengaluru   \n",
       "5           Mumbai, Bangalore/Bengaluru, Delhi / NCR   \n",
       "6           Mumbai, Delhi / NCR, Bangalore/Bengaluru   \n",
       "7                                Bangalore/Bengaluru   \n",
       "8                                Bangalore/Bengaluru   \n",
       "9                                Bangalore/Bengaluru   \n",
       "\n",
       "                                         Description  \n",
       "0  Job DescriptionUnderstand and design analytica...  \n",
       "1  What you ll doResearch, design and prototype r...  \n",
       "2  Data and Analytics Proposal Responses for Cros...  \n",
       "3  Roles and ResponsibilitiesWell-versed in quant...  \n",
       "4  Be a part of the Enterprise IT , Information a...  \n",
       "5  - Ability to understand a problem statement an...  \n",
       "6  - Ability to understand a problem statement an...  \n",
       "7  Provide advanced analytical capabilities to su...  \n",
       "8  Job Role ResponsibilitiesBe a part of a growin...  \n",
       "9  We are looking for a Data Scientist with 6+ ye...  "
      ]
     },
     "execution_count": 98,
     "metadata": {},
     "output_type": "execute_result"
    }
   ],
   "source": [
    "DatasScientist=pd.DataFrame({})\n",
    "DatasScientist['Job Title']=job_titles[:10]\n",
    "DatasScientist['Company Name']=companyname[:10]\n",
    "DatasScientist['Location']=location[:10]  \n",
    "DatasScientist['Description']=discription[:10]\n",
    "DatasScientist"
   ]
  },
  {
   "cell_type": "markdown",
   "metadata": {},
   "source": [
    " 3: In this question you have to scrape data using the filters available on the \n",
    "webpage as shown below:\n",
    "You have to use the location and salary filter.\n",
    "You have to scrape data for “Data Scientist” designation for first 10 job results.\n",
    "You have to scrape the job-title, job-location, company_name,\n",
    "experience_required.\n",
    "The location filter to be used is “Delhi/NCR”\n",
    "The salary filter to be used is “3-6” lakhs\n",
    "The task will be done as shown in the below steps:\n",
    "1. first get the webpage https://www.naukri.com/\n",
    "2. Enter “Data Scientist” in “Skill,Designations,Companies” field \n",
    "\n",
    "3. Then click the search button.\n",
    "4. Then apply the location filter and salary filter by checking the respective boxes\n",
    "4. Then scrape the data for the first 10 jobs results you get.\n",
    "5. Finally create a dataframe of the scraped data.\n",
    "Note- All of the above steps have to be done in code. No step is to be done \n",
    "manually.\n"
   ]
  },
  {
   "cell_type": "code",
   "execution_count": 110,
   "metadata": {},
   "outputs": [],
   "source": [
    "driver=webdriver.Chrome(r\"chromedriver.exe\")"
   ]
  },
  {
   "cell_type": "code",
   "execution_count": 111,
   "metadata": {},
   "outputs": [],
   "source": [
    "url='https://www.naukri.com/'\n",
    "driver.get(url)"
   ]
  },
  {
   "cell_type": "code",
   "execution_count": 112,
   "metadata": {},
   "outputs": [],
   "source": [
    "search_job=driver.find_element_by_id(\"qsb-keyword-sugg\")\n",
    "#search_job\n",
    "search_job.send_keys(\"Data Scientist\")"
   ]
  },
  {
   "cell_type": "code",
   "execution_count": 113,
   "metadata": {},
   "outputs": [],
   "source": [
    "search_btn=driver.find_element_by_xpath(\"//button[@class='btn']\")\n",
    "#search_btn\n",
    "search_btn.click()"
   ]
  },
  {
   "cell_type": "code",
   "execution_count": 115,
   "metadata": {},
   "outputs": [],
   "source": [
    "filter_loc=driver.find_element_by_xpath(\"/html/body/div[1]/div[3]/div[2]/section[1]/div[2]/div[3]/div[2]/div[3]/label/i\")\n",
    "#search_btn\n",
    "filter_loc.click()"
   ]
  },
  {
   "cell_type": "code",
   "execution_count": 116,
   "metadata": {},
   "outputs": [],
   "source": [
    "filter_sal=driver.find_element_by_xpath(\"/html/body/div[1]/div[3]/div[2]/section[1]/div[2]/div[4]/div[2]/div[2]/label/i\")\n",
    "#search_btn\n",
    "filter_sal.click()"
   ]
  },
  {
   "cell_type": "code",
   "execution_count": 117,
   "metadata": {},
   "outputs": [
    {
     "data": {
      "text/plain": [
       "20"
      ]
     },
     "execution_count": 117,
     "metadata": {},
     "output_type": "execute_result"
    }
   ],
   "source": [
    "tle_tags=driver.find_elements_by_xpath(\"//a[@class='title fw500 ellipsis']\")\n",
    "#titles_tags\n",
    "job_tit=[]\n",
    "for i in tle_tags:\n",
    "    job_tit.append(i.text)\n",
    "\n",
    "len(job_tit)"
   ]
  },
  {
   "cell_type": "code",
   "execution_count": 118,
   "metadata": {},
   "outputs": [
    {
     "data": {
      "text/plain": [
       "20"
      ]
     },
     "execution_count": 118,
     "metadata": {},
     "output_type": "execute_result"
    }
   ],
   "source": [
    "comp_tags=driver.find_elements_by_xpath(\"//div[@class='mt-7 companyInfo subheading lh16']//a[1]\")\n",
    "#company_tags\n",
    "comp_name=[]\n",
    "for i in comp_tags:\n",
    "    comp_name.append(i.text)\n",
    "\n",
    "len(comp_name)"
   ]
  },
  {
   "cell_type": "code",
   "execution_count": 119,
   "metadata": {},
   "outputs": [
    {
     "data": {
      "text/plain": [
       "20"
      ]
     },
     "execution_count": 119,
     "metadata": {},
     "output_type": "execute_result"
    }
   ],
   "source": [
    "loc_tags=driver.find_elements_by_xpath(\"//li[@class='fleft grey-text br2 placeHolderLi location']//span[1]\")\n",
    "#company_tags\n",
    "comp_location=[]\n",
    "for i in loc_tags:\n",
    "    comp_location.append(i.text)\n",
    "\n",
    "len(comp_location)"
   ]
  },
  {
   "cell_type": "code",
   "execution_count": 120,
   "metadata": {},
   "outputs": [
    {
     "data": {
      "text/plain": [
       "20"
      ]
     },
     "execution_count": 120,
     "metadata": {},
     "output_type": "execute_result"
    }
   ],
   "source": [
    "exp_tags=driver.find_elements_by_xpath(\"//li[@class='fleft grey-text br2 placeHolderLi experience']//span\")\n",
    "#company_tags\n",
    "exp_req=[]\n",
    "for i in exp_tags:\n",
    "    exp_req.append(i.text)\n",
    "\n",
    "len(exp_req)"
   ]
  },
  {
   "cell_type": "code",
   "execution_count": 121,
   "metadata": {},
   "outputs": [
    {
     "data": {
      "text/html": [
       "<div>\n",
       "<style scoped>\n",
       "    .dataframe tbody tr th:only-of-type {\n",
       "        vertical-align: middle;\n",
       "    }\n",
       "\n",
       "    .dataframe tbody tr th {\n",
       "        vertical-align: top;\n",
       "    }\n",
       "\n",
       "    .dataframe thead th {\n",
       "        text-align: right;\n",
       "    }\n",
       "</style>\n",
       "<table border=\"1\" class=\"dataframe\">\n",
       "  <thead>\n",
       "    <tr style=\"text-align: right;\">\n",
       "      <th></th>\n",
       "      <th>Job Title</th>\n",
       "      <th>Company Name</th>\n",
       "      <th>Location</th>\n",
       "      <th>Experience</th>\n",
       "    </tr>\n",
       "  </thead>\n",
       "  <tbody>\n",
       "    <tr>\n",
       "      <th>0</th>\n",
       "      <td>Data Scientist Internship</td>\n",
       "      <td>iHackers Inc</td>\n",
       "      <td>New Delhi</td>\n",
       "      <td>0-1 Yrs</td>\n",
       "    </tr>\n",
       "    <tr>\n",
       "      <th>1</th>\n",
       "      <td>Data Scientist</td>\n",
       "      <td>CBRE South Asia Pvt Ltd</td>\n",
       "      <td>Gurgaon/Gurugram</td>\n",
       "      <td>2-4 Yrs</td>\n",
       "    </tr>\n",
       "    <tr>\n",
       "      <th>2</th>\n",
       "      <td>Data Scientist / Sr. Data Scientist</td>\n",
       "      <td>WEGARNER SOLUTIONS PRIVATE LIMITED</td>\n",
       "      <td>Noida, Pune, Mumbai (All Areas)</td>\n",
       "      <td>0-5 Yrs</td>\n",
       "    </tr>\n",
       "    <tr>\n",
       "      <th>3</th>\n",
       "      <td>Data Scientist</td>\n",
       "      <td>Agreeya</td>\n",
       "      <td>Noida, Gurgaon/Gurugram, Delhi / NCR</td>\n",
       "      <td>3-6 Yrs</td>\n",
       "    </tr>\n",
       "    <tr>\n",
       "      <th>4</th>\n",
       "      <td>Only Fresher / Data Scientist / Data Analyst /...</td>\n",
       "      <td>GABA Consultancy services</td>\n",
       "      <td>Noida, Gurgaon/Gurugram, Delhi / NCR</td>\n",
       "      <td>0-0 Yrs</td>\n",
       "    </tr>\n",
       "    <tr>\n",
       "      <th>5</th>\n",
       "      <td>Data Scientist</td>\n",
       "      <td>Experiture</td>\n",
       "      <td>Kolkata, Hyderabad/Secunderabad, Ahmedabad, Ba...</td>\n",
       "      <td>5-7 Yrs</td>\n",
       "    </tr>\n",
       "    <tr>\n",
       "      <th>6</th>\n",
       "      <td>Immediate Openings For DATA Scientist with 6 T...</td>\n",
       "      <td>Entune IT Consulting Private Limited</td>\n",
       "      <td>Kolkata, Hyderabad/Secunderabad, Pune, Ahmedab...</td>\n",
       "      <td>5-8 Yrs</td>\n",
       "    </tr>\n",
       "    <tr>\n",
       "      <th>7</th>\n",
       "      <td>Data Scientist- Image Processing &amp; Computer Vi...</td>\n",
       "      <td>ProtoGene Consulting Private Limited</td>\n",
       "      <td>Delhi / NCR</td>\n",
       "      <td>4-7 Yrs</td>\n",
       "    </tr>\n",
       "    <tr>\n",
       "      <th>8</th>\n",
       "      <td>Senior Data Scientist - Noida</td>\n",
       "      <td>Optum Global Solutions (India) Private Limited</td>\n",
       "      <td>Noida</td>\n",
       "      <td>2-6 Yrs</td>\n",
       "    </tr>\n",
       "    <tr>\n",
       "      <th>9</th>\n",
       "      <td>Data Scientist</td>\n",
       "      <td>R Systems International Ltd.</td>\n",
       "      <td>Noida(Sector-59 Noida)</td>\n",
       "      <td>5-10 Yrs</td>\n",
       "    </tr>\n",
       "  </tbody>\n",
       "</table>\n",
       "</div>"
      ],
      "text/plain": [
       "                                           Job Title  \\\n",
       "0                          Data Scientist Internship   \n",
       "1                                     Data Scientist   \n",
       "2                Data Scientist / Sr. Data Scientist   \n",
       "3                                     Data Scientist   \n",
       "4  Only Fresher / Data Scientist / Data Analyst /...   \n",
       "5                                     Data Scientist   \n",
       "6  Immediate Openings For DATA Scientist with 6 T...   \n",
       "7  Data Scientist- Image Processing & Computer Vi...   \n",
       "8                      Senior Data Scientist - Noida   \n",
       "9                                     Data Scientist   \n",
       "\n",
       "                                     Company Name  \\\n",
       "0                                    iHackers Inc   \n",
       "1                         CBRE South Asia Pvt Ltd   \n",
       "2              WEGARNER SOLUTIONS PRIVATE LIMITED   \n",
       "3                                         Agreeya   \n",
       "4                       GABA Consultancy services   \n",
       "5                                      Experiture   \n",
       "6            Entune IT Consulting Private Limited   \n",
       "7            ProtoGene Consulting Private Limited   \n",
       "8  Optum Global Solutions (India) Private Limited   \n",
       "9                    R Systems International Ltd.   \n",
       "\n",
       "                                            Location Experience  \n",
       "0                                          New Delhi    0-1 Yrs  \n",
       "1                                   Gurgaon/Gurugram    2-4 Yrs  \n",
       "2                    Noida, Pune, Mumbai (All Areas)    0-5 Yrs  \n",
       "3               Noida, Gurgaon/Gurugram, Delhi / NCR    3-6 Yrs  \n",
       "4               Noida, Gurgaon/Gurugram, Delhi / NCR    0-0 Yrs  \n",
       "5  Kolkata, Hyderabad/Secunderabad, Ahmedabad, Ba...    5-7 Yrs  \n",
       "6  Kolkata, Hyderabad/Secunderabad, Pune, Ahmedab...    5-8 Yrs  \n",
       "7                                        Delhi / NCR    4-7 Yrs  \n",
       "8                                              Noida    2-6 Yrs  \n",
       "9                             Noida(Sector-59 Noida)   5-10 Yrs  "
      ]
     },
     "execution_count": 121,
     "metadata": {},
     "output_type": "execute_result"
    }
   ],
   "source": [
    "DatasScientist_Delhi=pd.DataFrame({})\n",
    "DatasScientist_Delhi['Job Title']=job_tit [:10]\n",
    "DatasScientist_Delhi['Company Name']=comp_name[:10]\n",
    "DatasScientist_Delhi['Location']=comp_location[:10]  \n",
    "DatasScientist_Delhi['Experience']=exp_req[:10]\n",
    "DatasScientist_Delhi"
   ]
  },
  {
   "cell_type": "markdown",
   "metadata": {},
   "source": [
    " Q4: Write a python program to scrape data for first 10 job results for Data scientist \n",
    "Designation in Noida location. You have to scrape company_name, No. of days \n",
    "ago when job was posted, Rating of the company.\n",
    "This task will be done in following steps:\n",
    "1. first get the webpage https://www.glassdoor.co.in/index.htm\n",
    "2. Enter “Data Scientist” in “Job Title,Keyword,Company” field and enter “Noida” \n",
    "in “location” field.\n",
    "3. Then click the search button. You will land up in the below page\n",
    "4.. Then scrape the data for the first 10 jobs results you get in the above shown \n",
    "page.\n",
    "5.. Finally create a dataframe of the scraped data.\n",
    "Note- All of the above steps have to be done in code. No step is to be done \n",
    "manually.\n"
   ]
  },
  {
   "cell_type": "code",
   "execution_count": 191,
   "metadata": {},
   "outputs": [],
   "source": [
    "driver=webdriver.Chrome(r\"chromedriver.exe\")"
   ]
  },
  {
   "cell_type": "code",
   "execution_count": 192,
   "metadata": {},
   "outputs": [],
   "source": [
    "url='https://www.glassdoor.co.in/index.htm'\n",
    "driver.get(url)"
   ]
  },
  {
   "cell_type": "code",
   "execution_count": 193,
   "metadata": {},
   "outputs": [],
   "source": [
    "search_email=driver.find_element_by_id('InlineUserEmailSignUp')\n",
    "search_email\n",
    "search_email.send_keys(\"priyanka.ece.08@gmail.com\")"
   ]
  },
  {
   "cell_type": "code",
   "execution_count": 194,
   "metadata": {},
   "outputs": [],
   "source": [
    "search_email=driver.find_element_by_id('InlineUserPasswordSignUp')\n",
    "search_email\n",
    "search_email.send_keys(\"Test@123\")"
   ]
  },
  {
   "cell_type": "code",
   "execution_count": 195,
   "metadata": {},
   "outputs": [],
   "source": [
    "continue_btn=driver.find_element_by_xpath(\"//button[@class='gd-ui-button minWidthBtn signupSubmit css-8i7bc2']\")\n",
    "#search_btn\n",
    "continue_btn.click()"
   ]
  },
  {
   "cell_type": "code",
   "execution_count": 198,
   "metadata": {},
   "outputs": [],
   "source": [
    "continue_btn=driver.find_element_by_xpath(\"//button[@class='d-flex align-items-center justify-content-center order-1 order-md-2 mr-auto mr-md-0 p-0 LockedHomeHeaderStyles__signInButton']\")\n",
    "#search_btn\n",
    "continue_btn.click()"
   ]
  },
  {
   "cell_type": "code",
   "execution_count": 199,
   "metadata": {},
   "outputs": [],
   "source": [
    "email=driver.find_element_by_id('userEmail')\n",
    "email\n",
    "email.send_keys(\"priyanka.ece.08@gmail.com\")"
   ]
  },
  {
   "cell_type": "code",
   "execution_count": 200,
   "metadata": {},
   "outputs": [],
   "source": [
    "search_email=driver.find_element_by_id('userPassword')\n",
    "search_email\n",
    "search_email.send_keys(\"Test@123\")"
   ]
  },
  {
   "cell_type": "code",
   "execution_count": 201,
   "metadata": {},
   "outputs": [],
   "source": [
    "continue_btn=driver.find_element_by_xpath(\"//button[@class='gd-ui-button minWidthBtn css-8i7bc2']\")\n",
    "#search_btn\n",
    "continue_btn.click()"
   ]
  },
  {
   "cell_type": "code",
   "execution_count": 203,
   "metadata": {},
   "outputs": [],
   "source": [
    "search_btn=driver.find_element_by_xpath(\"//button[@class='p-0 search__SearchStyles__iconBtn']\")\n",
    "#search_btn\n",
    "search_btn.click()"
   ]
  },
  {
   "cell_type": "code",
   "execution_count": 210,
   "metadata": {},
   "outputs": [],
   "source": [
    "job_search=driver.find_element_by_id(\"scKeyword\")\n",
    "#search_job\n",
    "job_search.send_keys(\"Data scientist \")"
   ]
  },
  {
   "cell_type": "code",
   "execution_count": 211,
   "metadata": {},
   "outputs": [],
   "source": [
    "loc=driver.find_element_by_id(\"scLocation\")\n",
    "#search_loc\n",
    "loc.send_keys(\"Noida\")"
   ]
  },
  {
   "cell_type": "code",
   "execution_count": 212,
   "metadata": {},
   "outputs": [],
   "source": [
    "arrow_btn=driver.find_element_by_xpath(\"//button[@class='pl-0 pr-xsm search__SearchStyles__searchKeywordSubmit']\")\n",
    "#search_btn\n",
    "arrow_btn.click()"
   ]
  },
  {
   "cell_type": "code",
   "execution_count": 217,
   "metadata": {},
   "outputs": [
    {
     "data": {
      "text/plain": [
       "30"
      ]
     },
     "execution_count": 217,
     "metadata": {},
     "output_type": "execute_result"
    }
   ],
   "source": [
    "company_t=driver.find_elements_by_xpath(\"//div[@class='d-flex justify-content-between align-items-start']\")\n",
    "#company_tags\n",
    "CompanyName=[]\n",
    "for i in company_t:\n",
    "    CompanyName.append(i.text)\n",
    "\n",
    "len(CompanyName)"
   ]
  },
  {
   "cell_type": "code",
   "execution_count": 223,
   "metadata": {},
   "outputs": [
    {
     "data": {
      "text/plain": [
       "30"
      ]
     },
     "execution_count": 223,
     "metadata": {},
     "output_type": "execute_result"
    }
   ],
   "source": [
    "rating=driver.find_elements_by_xpath(\"//div[@class='d-flex flex-column css-x75kgh e1rrn5ka3']\")\n",
    "#company_tags\n",
    "company_rating=[]\n",
    "for i in rating:\n",
    "    company_rating.append(i.text)\n",
    "\n",
    "len(company_rating)"
   ]
  },
  {
   "cell_type": "code",
   "execution_count": 224,
   "metadata": {},
   "outputs": [
    {
     "data": {
      "text/plain": [
       "30"
      ]
     },
     "execution_count": 224,
     "metadata": {},
     "output_type": "execute_result"
    }
   ],
   "source": [
    "posted=driver.find_elements_by_xpath(\"//div[@class='d-flex align-items-end pl-std css-mi55ob']\")\n",
    "#company_tags\n",
    "job_posted=[]\n",
    "for i in posted:\n",
    "    job_posted.append(i.text)\n",
    "\n",
    "len(job_posted)"
   ]
  },
  {
   "cell_type": "code",
   "execution_count": 225,
   "metadata": {},
   "outputs": [
    {
     "data": {
      "text/html": [
       "<div>\n",
       "<style scoped>\n",
       "    .dataframe tbody tr th:only-of-type {\n",
       "        vertical-align: middle;\n",
       "    }\n",
       "\n",
       "    .dataframe tbody tr th {\n",
       "        vertical-align: top;\n",
       "    }\n",
       "\n",
       "    .dataframe thead th {\n",
       "        text-align: right;\n",
       "    }\n",
       "</style>\n",
       "<table border=\"1\" class=\"dataframe\">\n",
       "  <thead>\n",
       "    <tr style=\"text-align: right;\">\n",
       "      <th></th>\n",
       "      <th>Company</th>\n",
       "      <th>Rating</th>\n",
       "      <th>Posted</th>\n",
       "    </tr>\n",
       "  </thead>\n",
       "  <tbody>\n",
       "    <tr>\n",
       "      <th>0</th>\n",
       "      <td>Liberin Technologies Private Limited</td>\n",
       "      <td></td>\n",
       "      <td>2d</td>\n",
       "    </tr>\n",
       "    <tr>\n",
       "      <th>1</th>\n",
       "      <td>Pixel Vision</td>\n",
       "      <td>3.7</td>\n",
       "      <td>24h</td>\n",
       "    </tr>\n",
       "    <tr>\n",
       "      <th>2</th>\n",
       "      <td>Biz2Credit Inc</td>\n",
       "      <td></td>\n",
       "      <td>10d</td>\n",
       "    </tr>\n",
       "    <tr>\n",
       "      <th>3</th>\n",
       "      <td>Crowe</td>\n",
       "      <td>4.2</td>\n",
       "      <td>8d</td>\n",
       "    </tr>\n",
       "    <tr>\n",
       "      <th>4</th>\n",
       "      <td>Salasar New Age Technologies</td>\n",
       "      <td>3.8</td>\n",
       "      <td>30d+</td>\n",
       "    </tr>\n",
       "    <tr>\n",
       "      <th>5</th>\n",
       "      <td>Newgen Software</td>\n",
       "      <td>3.0</td>\n",
       "      <td>24h</td>\n",
       "    </tr>\n",
       "    <tr>\n",
       "      <th>6</th>\n",
       "      <td>Techlive</td>\n",
       "      <td>4.1</td>\n",
       "      <td>1d</td>\n",
       "    </tr>\n",
       "    <tr>\n",
       "      <th>7</th>\n",
       "      <td>Salasar New Age Technologies</td>\n",
       "      <td>4.2</td>\n",
       "      <td>22d</td>\n",
       "    </tr>\n",
       "    <tr>\n",
       "      <th>8</th>\n",
       "      <td>British Council</td>\n",
       "      <td>3.7</td>\n",
       "      <td>10d</td>\n",
       "    </tr>\n",
       "    <tr>\n",
       "      <th>9</th>\n",
       "      <td>NEC Opportunities</td>\n",
       "      <td></td>\n",
       "      <td>2d</td>\n",
       "    </tr>\n",
       "  </tbody>\n",
       "</table>\n",
       "</div>"
      ],
      "text/plain": [
       "                                Company Rating Posted\n",
       "0  Liberin Technologies Private Limited            2d\n",
       "1                          Pixel Vision    3.7    24h\n",
       "2                        Biz2Credit Inc           10d\n",
       "3                                 Crowe    4.2     8d\n",
       "4          Salasar New Age Technologies    3.8   30d+\n",
       "5                       Newgen Software    3.0    24h\n",
       "6                              Techlive    4.1     1d\n",
       "7          Salasar New Age Technologies    4.2    22d\n",
       "8                       British Council    3.7    10d\n",
       "9                     NEC Opportunities            2d"
      ]
     },
     "execution_count": 225,
     "metadata": {},
     "output_type": "execute_result"
    }
   ],
   "source": [
    "Glassdoor_job=pd.DataFrame({})\n",
    "Glassdoor_job['Company']=CompanyName[:10]\n",
    "Glassdoor_job['Rating']=company_rating[:10]\n",
    "Glassdoor_job['Posted']=job_posted[:10]  \n",
    "Glassdoor_job"
   ]
  },
  {
   "cell_type": "code",
   "execution_count": null,
   "metadata": {},
   "outputs": [],
   "source": []
  },
  {
   "cell_type": "markdown",
   "metadata": {},
   "source": [
    "Q6 : Scrape data of first 100 sunglasses listings on flipkart.com. You have to \n",
    "scrape four attributes:\n",
    "1. Brand\n",
    "2. Product Description\n",
    "3. Price\n",
    "4. Discount %\n",
    "The attributes which you have to scrape is ticked marked in the below image.\n",
    "To scrape the data you have to go through following steps:\n",
    "1. Go to flipkart webpage by url https://www.flipkart.com/\n",
    "2. Enter “sunglasses” in the search field where “search for products, brands and \n",
    "more” is written and click the search icon\n",
    "3. after that you will reach to a webpage having a lot of sunglasses. From this page \n",
    "you can scrap the required data as usual.\n",
    "4. after scraping data from the first page, go to the “Next” Button at the bottom of \n",
    "the page , then click on it.\n",
    ". Now scrape data from this page as usual\n",
    "6. repeat this until you get data for 100 sunglasses.\n",
    "Note that all of the above steps have to be done by coding only and not manually."
   ]
  },
  {
   "cell_type": "code",
   "execution_count": 122,
   "metadata": {},
   "outputs": [],
   "source": [
    "driver=webdriver.Chrome(r\"chromedriver.exe\")\n",
    "url='https://www.flipkart.com/'\n",
    "driver.get(url)"
   ]
  },
  {
   "cell_type": "code",
   "execution_count": 123,
   "metadata": {},
   "outputs": [],
   "source": [
    "cross_btn=driver.find_element_by_xpath(\"//button[@class='_2KpZ6l _2doB4z']\")\n",
    "#search_btn\n",
    "cross_btn.click()"
   ]
  },
  {
   "cell_type": "code",
   "execution_count": 124,
   "metadata": {},
   "outputs": [],
   "source": [
    "search_glass=driver.find_element_by_xpath('/html/body/div[1]/div/div[1]/div[1]/div[2]/div[2]/form/div/div/input')\n",
    "#search_job\n",
    "search_glass.send_keys(\"sunglasses\")"
   ]
  },
  {
   "cell_type": "code",
   "execution_count": 125,
   "metadata": {},
   "outputs": [],
   "source": [
    "btn_glass=driver.find_element_by_xpath(\"//button[@class='L0Z3Pu']\")\n",
    "#search_btn\n",
    "btn_glass.click()"
   ]
  },
  {
   "cell_type": "code",
   "execution_count": 127,
   "metadata": {},
   "outputs": [
    {
     "data": {
      "text/plain": [
       "['https://www.flipkart.com/wrogn-wayfarer-sunglasses/p/itm7f7e238482e05?pid=SGLFVHMBY39XKD3K&lid=LSTSGLFVHMBY39XKD3KZ8TPD6&marketplace=FLIPKART&q=sunglasses&store=26x&srno=s_1_1&otracker=search&otracker1=search&fm=SEARCH&iid=en_7bokWOoG6qnmxdktFltJqJN%2BdQkT51OxsZBWZlnsYyKQoc728YIkkPMkkZ1SGEGOdb3r2Qgjr7uMuOFvGmrNtw%3D%3D&ppt=hp&ppn=homepage&ssid=e05gvetz400000001628848907989&qH=2cc465e3eef5bff0',\n",
       " 'https://www.flipkart.com/royal-son-round-sunglasses/p/itm5b334314a720f?pid=SGLGYPHHV2VGDY8D&lid=LSTSGLGYPHHV2VGDY8DPWN2IS&marketplace=FLIPKART&q=sunglasses&store=26x&srno=s_1_2&otracker=search&otracker1=search&fm=SEARCH&iid=en_7bokWOoG6qnmxdktFltJqJN%2BdQkT51OxsZBWZlnsYyJJf%2BfQfsT3IjPLkQ1nssKq6BQD5K%2FzS5Py3Ku8eiuwrA%3D%3D&ppt=hp&ppn=homepage&ssid=e05gvetz400000001628848907989&qH=2cc465e3eef5bff0',\n",
       " 'https://www.flipkart.com/elligator-round-sunglasses/p/itm3c981fc444358?pid=SGLFPHP5BVBJTCDB&lid=LSTSGLFPHP5BVBJTCDB7P4T6G&marketplace=FLIPKART&q=sunglasses&store=26x&srno=s_1_3&otracker=search&otracker1=search&fm=SEARCH&iid=3dc469a3-1009-47b2-baa9-31785d1a591b.SGLFPHP5BVBJTCDB.SEARCH&ppt=hp&ppn=homepage&ssid=e05gvetz400000001628848907989&qH=2cc465e3eef5bff0',\n",
       " 'https://www.flipkart.com/fastrack-rectangular-sunglasses/p/itmf3yhd8wephwxh?pid=SGLES2WMF6CH5GYF&lid=LSTSGLES2WMF6CH5GYFXRVSZN&marketplace=FLIPKART&q=sunglasses&store=26x&srno=s_1_4&otracker=search&otracker1=search&fm=SEARCH&iid=3dc469a3-1009-47b2-baa9-31785d1a591b.SGLES2WMF6CH5GYF.SEARCH&ppt=hp&ppn=homepage&ssid=e05gvetz400000001628848907989&qH=2cc465e3eef5bff0',\n",
       " 'https://www.flipkart.com/kingsunglasses-wayfarer-sunglasses/p/itm9c7287be7c247?pid=SGLG2ZY9UERPGCZX&lid=LSTSGLG2ZY9UERPGCZXOWQRMA&marketplace=FLIPKART&q=sunglasses&store=26x&srno=s_1_5&otracker=search&otracker1=search&fm=SEARCH&iid=3dc469a3-1009-47b2-baa9-31785d1a591b.SGLG2ZY9UERPGCZX.SEARCH&ppt=hp&ppn=homepage&ssid=e05gvetz400000001628848907989&qH=2cc465e3eef5bff0',\n",
       " 'https://www.flipkart.com/fastrack-wayfarer-sunglasses/p/itmf79dqjqucq9f3?pid=SGLF79DQR8NQAT2W&lid=LSTSGLF79DQR8NQAT2W0MLSHN&marketplace=FLIPKART&q=sunglasses&store=26x&srno=s_1_6&otracker=search&otracker1=search&fm=SEARCH&iid=3dc469a3-1009-47b2-baa9-31785d1a591b.SGLF79DQR8NQAT2W.SEARCH&ppt=hp&ppn=homepage&ssid=e05gvetz400000001628848907989&qH=2cc465e3eef5bff0',\n",
       " 'https://www.flipkart.com/piraso-aviator-sunglasses/p/itm70504d13b7992?pid=SGLFV8YYCEA8RWAC&lid=LSTSGLFV8YYCEA8RWACIACICJ&marketplace=FLIPKART&q=sunglasses&store=26x&spotlightTagId=BestsellerId_26x&srno=s_1_7&otracker=search&otracker1=search&fm=SEARCH&iid=3dc469a3-1009-47b2-baa9-31785d1a591b.SGLFV8YYCEA8RWAC.SEARCH&ppt=hp&ppn=homepage&ssid=e05gvetz400000001628848907989&qH=2cc465e3eef5bff0',\n",
       " 'https://www.flipkart.com/royal-son-round-sunglasses/p/itm08ee366f541f9?pid=SGLFZJV9XTPRHAZQ&lid=LSTSGLFZJV9XTPRHAZQ48MYNV&marketplace=FLIPKART&q=sunglasses&store=26x&srno=s_1_8&otracker=search&otracker1=search&fm=SEARCH&iid=en_7bokWOoG6qnmxdktFltJqJN%2BdQkT51OxsZBWZlnsYyL5MvLR86%2Bgn9fl2ayHNygyMevXC2n4W%2FSZ1Xdiw8pkgg%3D%3D&ppt=hp&ppn=homepage&ssid=e05gvetz400000001628848907989&qH=2cc465e3eef5bff0',\n",
       " 'https://www.flipkart.com/fastrack-wayfarer-sunglasses/p/itm04d9621b98c78?pid=SGLFG94C8PAHZ3SH&lid=LSTSGLFG94C8PAHZ3SHAFCJXO&marketplace=FLIPKART&q=sunglasses&store=26x&srno=s_1_9&otracker=search&otracker1=search&fm=SEARCH&iid=3dc469a3-1009-47b2-baa9-31785d1a591b.SGLFG94C8PAHZ3SH.SEARCH&ppt=hp&ppn=homepage&ssid=e05gvetz400000001628848907989&qH=2cc465e3eef5bff0',\n",
       " 'https://www.flipkart.com/sunbee-round-sunglasses/p/itmb550c957e1689?pid=SGLFUHKVTHSJMKTM&lid=LSTSGLFUHKVTHSJMKTMTM6LJ0&marketplace=FLIPKART&q=sunglasses&store=26x&srno=s_1_10&otracker=search&otracker1=search&fm=SEARCH&iid=3dc469a3-1009-47b2-baa9-31785d1a591b.SGLFUHKVTHSJMKTM.SEARCH&ppt=hp&ppn=homepage&ssid=e05gvetz400000001628848907989&qH=2cc465e3eef5bff0',\n",
       " 'https://www.flipkart.com/piraso-aviator-sunglasses/p/itma9ed6fe9b3b86?pid=SGLFZJQUNAHYUCAS&lid=LSTSGLFZJQUNAHYUCASKDXKTE&marketplace=FLIPKART&q=sunglasses&store=26x&srno=s_1_11&otracker=search&otracker1=search&fm=SEARCH&iid=3dc469a3-1009-47b2-baa9-31785d1a591b.SGLFZJQUNAHYUCAS.SEARCH&ppt=hp&ppn=homepage&ssid=e05gvetz400000001628848907989&qH=2cc465e3eef5bff0',\n",
       " 'https://www.flipkart.com/royal-son-retro-square-sunglasses/p/itm7c48028a023cc?pid=SGLFPBJEBM3UUWZP&lid=LSTSGLFPBJEBM3UUWZPQWDIEK&marketplace=FLIPKART&q=sunglasses&store=26x&srno=s_1_12&otracker=search&otracker1=search&fm=SEARCH&iid=en_7bokWOoG6qnmxdktFltJqJN%2BdQkT51OxsZBWZlnsYyJQ0x5w1Dm3fzogOyBmRQi6wZgUFwG6gkrIZAwj1%2Bqxmw%3D%3D&ppt=hp&ppn=homepage&ssid=e05gvetz400000001628848907989&qH=2cc465e3eef5bff0',\n",
       " 'https://www.flipkart.com/kingsunglasses-round-sunglasses/p/itmfb9juuhzg79rv?pid=SGLFB9GQVKJZGNDG&lid=LSTSGLFB9GQVKJZGNDGMUY598&marketplace=FLIPKART&q=sunglasses&store=26x&srno=s_1_13&otracker=search&otracker1=search&fm=SEARCH&iid=3dc469a3-1009-47b2-baa9-31785d1a591b.SGLFB9GQVKJZGNDG.SEARCH&ppt=hp&ppn=homepage&ssid=e05gvetz400000001628848907989&qH=2cc465e3eef5bff0',\n",
       " 'https://www.flipkart.com/phenomenal-retro-square-sunglasses/p/itm05605e75ed801?pid=SGLFUXYAXFHYQAK4&lid=LSTSGLFUXYAXFHYQAK4VF4MKG&marketplace=FLIPKART&q=sunglasses&store=26x&srno=s_1_14&otracker=search&otracker1=search&fm=SEARCH&iid=3dc469a3-1009-47b2-baa9-31785d1a591b.SGLFUXYAXFHYQAK4.SEARCH&ppt=hp&ppn=homepage&ssid=e05gvetz400000001628848907989&qH=2cc465e3eef5bff0',\n",
       " 'https://www.flipkart.com/shaah-collections-rectangular-sunglasses/p/itm201340b1c3e13?pid=SGLFXWGV5TGFFSPX&lid=LSTSGLFXWGV5TGFFSPXSORUG9&marketplace=FLIPKART&q=sunglasses&store=26x&spotlightTagId=TrendingId_26x&srno=s_1_15&otracker=search&otracker1=search&fm=SEARCH&iid=3dc469a3-1009-47b2-baa9-31785d1a591b.SGLFXWGV5TGFFSPX.SEARCH&ppt=hp&ppn=homepage&ssid=e05gvetz400000001628848907989&qH=2cc465e3eef5bff0',\n",
       " 'https://www.flipkart.com/royal-son-aviator-sunglasses/p/itme479614d796cc?pid=SGLED3YH6AQQFTJT&lid=LSTSGLED3YH6AQQFTJTD9JARU&marketplace=FLIPKART&q=sunglasses&store=26x&srno=s_1_16&otracker=search&otracker1=search&fm=SEARCH&iid=en_7bokWOoG6qnmxdktFltJqJN%2BdQkT51OxsZBWZlnsYyLzrwxpoixACb28x62S8mQMtt3BnNSpHLMZAgVidQKZ1w%3D%3D&ppt=hp&ppn=homepage&ssid=e05gvetz400000001628848907989&qH=2cc465e3eef5bff0',\n",
       " 'https://www.flipkart.com/fastrack-aviator-sunglasses/p/itm3d6674f888d98?pid=SGLFKYGHKP4BXEMH&lid=LSTSGLFKYGHKP4BXEMHAL1IED&marketplace=FLIPKART&q=sunglasses&store=26x&srno=s_1_17&otracker=search&otracker1=search&fm=SEARCH&iid=3dc469a3-1009-47b2-baa9-31785d1a591b.SGLFKYGHKP4BXEMH.SEARCH&ppt=hp&ppn=homepage&ssid=e05gvetz400000001628848907989&qH=2cc465e3eef5bff0',\n",
       " 'https://www.flipkart.com/fastrack-wayfarer-sunglasses/p/itmf79dqccyjbdez?pid=SGLF79DQNHPY9N6U&lid=LSTSGLF79DQNHPY9N6UHBMJVE&marketplace=FLIPKART&q=sunglasses&store=26x&srno=s_1_18&otracker=search&otracker1=search&fm=SEARCH&iid=3dc469a3-1009-47b2-baa9-31785d1a591b.SGLF79DQNHPY9N6U.SEARCH&ppt=hp&ppn=homepage&ssid=e05gvetz400000001628848907989&qH=2cc465e3eef5bff0',\n",
       " 'https://www.flipkart.com/fastrack-aviator-sunglasses/p/itm71bfd7c0bb72a?pid=SGLFKYGHRDPNJGGG&lid=LSTSGLFKYGHRDPNJGGGVIF0IZ&marketplace=FLIPKART&q=sunglasses&store=26x&srno=s_1_19&otracker=search&otracker1=search&fm=SEARCH&iid=3dc469a3-1009-47b2-baa9-31785d1a591b.SGLFKYGHRDPNJGGG.SEARCH&ppt=hp&ppn=homepage&ssid=e05gvetz400000001628848907989&qH=2cc465e3eef5bff0',\n",
       " 'https://www.flipkart.com/wrogn-aviator-sunglasses/p/itm7fa19a4b466b9?pid=SGLFVHMCXQNMYGTY&lid=LSTSGLFVHMCXQNMYGTYZI7OT5&marketplace=FLIPKART&q=sunglasses&store=26x&srno=s_1_20&otracker=search&otracker1=search&fm=SEARCH&iid=en_7bokWOoG6qnmxdktFltJqJN%2BdQkT51OxsZBWZlnsYyLPliyjh3I1d1plp8kuPVhuJjTQmxBYEbEYFVQ0Qc4UpQ%3D%3D&ppt=hp&ppn=homepage&ssid=e05gvetz400000001628848907989&qH=2cc465e3eef5bff0',\n",
       " 'https://www.flipkart.com/fastrack-wayfarer-sunglasses/p/itma9864babc060c?pid=SGLFG94CV3EVXTZE&lid=LSTSGLFG94CV3EVXTZEPQ88ZR&marketplace=FLIPKART&q=sunglasses&store=26x&srno=s_1_21&otracker=search&otracker1=search&fm=SEARCH&iid=3dc469a3-1009-47b2-baa9-31785d1a591b.SGLFG94CV3EVXTZE.SEARCH&ppt=hp&ppn=homepage&ssid=e05gvetz400000001628848907989&qH=2cc465e3eef5bff0',\n",
       " 'https://www.flipkart.com/rozzetta-craft-rectangular-sunglasses/p/itmc07cb7e8aec50?pid=SGLFSZV6PXGZGZGX&lid=LSTSGLFSZV6PXGZGZGXNWELSX&marketplace=FLIPKART&q=sunglasses&store=26x&srno=s_1_22&otracker=search&otracker1=search&fm=SEARCH&iid=3dc469a3-1009-47b2-baa9-31785d1a591b.SGLFSZV6PXGZGZGX.SEARCH&ppt=hp&ppn=homepage&ssid=e05gvetz400000001628848907989&qH=2cc465e3eef5bff0',\n",
       " 'https://www.flipkart.com/fastrack-aviator-sunglasses/p/itmfcynnapsxpzxv?pid=SGLES2WMN7PCAERZ&lid=LSTSGLES2WMN7PCAERZZTPY54&marketplace=FLIPKART&q=sunglasses&store=26x&srno=s_1_23&otracker=search&otracker1=search&fm=SEARCH&iid=3dc469a3-1009-47b2-baa9-31785d1a591b.SGLES2WMN7PCAERZ.SEARCH&ppt=hp&ppn=homepage&ssid=e05gvetz400000001628848907989&qH=2cc465e3eef5bff0',\n",
       " 'https://www.flipkart.com/royal-son-over-sized-sunglasses/p/itmc7b1876b4b36d?pid=SGLFNFU98QFFTR2C&lid=LSTSGLFNFU98QFFTR2CJNNUEV&marketplace=FLIPKART&q=sunglasses&store=26x&srno=s_1_24&otracker=search&otracker1=search&fm=SEARCH&iid=en_7bokWOoG6qnmxdktFltJqJN%2BdQkT51OxsZBWZlnsYyIn0wRm%2FvxKqduevSDSZGycuhNt6Zc2i8nSwJt731ciwA%3D%3D&ppt=hp&ppn=homepage&ssid=e05gvetz400000001628848907989&qH=2cc465e3eef5bff0',\n",
       " 'https://www.flipkart.com/gansta-aviator-sunglasses/p/itmf7hmfp5r8hcdb?pid=SGLF7HGZKHHSTQ8H&lid=LSTSGLF7HGZKHHSTQ8H5VK4WX&marketplace=FLIPKART&q=sunglasses&store=26x&srno=s_1_25&otracker=search&otracker1=search&fm=SEARCH&iid=3dc469a3-1009-47b2-baa9-31785d1a591b.SGLF7HGZKHHSTQ8H.SEARCH&ppt=hp&ppn=homepage&ssid=e05gvetz400000001628848907989&qH=2cc465e3eef5bff0',\n",
       " 'https://www.flipkart.com/rozzetta-craft-retro-square-sunglasses/p/itmf248ba5b3a895?pid=SGLFZFZNAQNZHYB7&lid=LSTSGLFZFZNAQNZHYB7GZ3YO5&marketplace=FLIPKART&q=sunglasses&store=26x&srno=s_1_26&otracker=search&otracker1=search&fm=SEARCH&iid=3dc469a3-1009-47b2-baa9-31785d1a591b.SGLFZFZNAQNZHYB7.SEARCH&ppt=hp&ppn=homepage&ssid=e05gvetz400000001628848907989&qH=2cc465e3eef5bff0',\n",
       " 'https://www.flipkart.com/fastrack-sports-sunglasses/p/itmf79dpvhr2g5hp?pid=SGLF79DPDUUZSC2E&lid=LSTSGLF79DPDUUZSC2ELCU1X2&marketplace=FLIPKART&q=sunglasses&store=26x&srno=s_1_27&otracker=search&otracker1=search&fm=SEARCH&iid=3dc469a3-1009-47b2-baa9-31785d1a591b.SGLF79DPDUUZSC2E.SEARCH&ppt=hp&ppn=homepage&ssid=e05gvetz400000001628848907989&qH=2cc465e3eef5bff0',\n",
       " 'https://www.flipkart.com/royal-son-rectangular-sunglasses/p/itmfhmsrkchzyr9y?pid=SGLFHHV5PXK3GZZ3&lid=LSTSGLFHHV5PXK3GZZ346BCCJ&marketplace=FLIPKART&q=sunglasses&store=26x&srno=s_1_28&otracker=search&otracker1=search&fm=SEARCH&iid=en_7bokWOoG6qnmxdktFltJqJN%2BdQkT51OxsZBWZlnsYyJprovY0iWjSOGVydjOR27nWnlZDTxyWHlmP7SqKdutZw%3D%3D&ppt=hp&ppn=homepage&ssid=e05gvetz400000001628848907989&qH=2cc465e3eef5bff0',\n",
       " 'https://www.flipkart.com/silver-kartz-wayfarer-sunglasses/p/itmf3ykz37jypbdd?pid=SGLEXSP4CY6G2ZTY&lid=LSTSGLEXSP4CY6G2ZTYGHVAAN&marketplace=FLIPKART&q=sunglasses&store=26x&srno=s_1_29&otracker=search&otracker1=search&fm=SEARCH&iid=3dc469a3-1009-47b2-baa9-31785d1a591b.SGLEXSP4CY6G2ZTY.SEARCH&ppt=hp&ppn=homepage&ssid=e05gvetz400000001628848907989&qH=2cc465e3eef5bff0',\n",
       " 'https://www.flipkart.com/hipe-round-sunglasses/p/itm05dde0582be36?pid=SGLFQETNDUT4ZRPX&lid=LSTSGLFQETNDUT4ZRPXSFWXQA&marketplace=FLIPKART&q=sunglasses&store=26x&srno=s_1_30&otracker=search&otracker1=search&fm=SEARCH&iid=3dc469a3-1009-47b2-baa9-31785d1a591b.SGLFQETNDUT4ZRPX.SEARCH&ppt=hp&ppn=homepage&ssid=e05gvetz400000001628848907989&qH=2cc465e3eef5bff0',\n",
       " 'https://www.flipkart.com/kingsunglasses-rectangular-sunglasses/p/itm7a1f2d0b309e9?pid=SGLGYFFNQNFTBBVU&lid=LSTSGLGYFFNQNFTBBVUXSSV7U&marketplace=FLIPKART&q=sunglasses&store=26x&srno=s_1_31&otracker=search&otracker1=search&fm=SEARCH&iid=3dc469a3-1009-47b2-baa9-31785d1a591b.SGLGYFFNQNFTBBVU.SEARCH&ppt=hp&ppn=homepage&ssid=e05gvetz400000001628848907989&qH=2cc465e3eef5bff0',\n",
       " 'https://www.flipkart.com/royal-son-aviator-sunglasses/p/itm919a2187f86cb?pid=SGLGYPHGYXQKAJYW&lid=LSTSGLGYPHGYXQKAJYWND6QYB&marketplace=FLIPKART&q=sunglasses&store=26x&srno=s_1_32&otracker=search&otracker1=search&fm=SEARCH&iid=en_7bokWOoG6qnmxdktFltJqJN%2BdQkT51OxsZBWZlnsYyLqYYgaynyq%2Bz7JTGNhrK6y%2FJqXp0iogTwmEliczgA1tQ%3D%3D&ppt=hp&ppn=homepage&ssid=e05gvetz400000001628848907989&qH=2cc465e3eef5bff0',\n",
       " 'https://www.flipkart.com/fravy-wayfarer-sunglasses/p/itmfgfawyeuxjca4?pid=SGLFGFYPYHHANNSH&lid=LSTSGLFGFYPYHHANNSHUS4FPA&marketplace=FLIPKART&q=sunglasses&store=26x&srno=s_1_33&otracker=search&otracker1=search&fm=SEARCH&iid=3dc469a3-1009-47b2-baa9-31785d1a591b.SGLFGFYPYHHANNSH.SEARCH&ppt=hp&ppn=homepage&ssid=e05gvetz400000001628848907989&qH=2cc465e3eef5bff0',\n",
       " 'https://www.flipkart.com/elligator-round-sunglasses/p/itm88859d649c827?pid=SGLFBB8BVXGUHYEY&lid=LSTSGLFBB8BVXGUHYEYK1NPCL&marketplace=FLIPKART&q=sunglasses&store=26x&srno=s_1_34&otracker=search&otracker1=search&fm=SEARCH&iid=3dc469a3-1009-47b2-baa9-31785d1a591b.SGLFBB8BVXGUHYEY.SEARCH&ppt=hp&ppn=homepage&ssid=e05gvetz400000001628848907989&qH=2cc465e3eef5bff0',\n",
       " 'https://www.flipkart.com/kingsunglasses-rectangular-sunglasses/p/itm64b34ea1657a8?pid=SGLFY9FKJNVPJWGY&lid=LSTSGLFY9FKJNVPJWGY0JURHX&marketplace=FLIPKART&q=sunglasses&store=26x&srno=s_1_35&otracker=search&otracker1=search&fm=SEARCH&iid=3dc469a3-1009-47b2-baa9-31785d1a591b.SGLFY9FKJNVPJWGY.SEARCH&ppt=hp&ppn=homepage&ssid=e05gvetz400000001628848907989&qH=2cc465e3eef5bff0',\n",
       " 'https://www.flipkart.com/royal-son-retro-square-sunglasses/p/itm212388ef7fc65?pid=SGLFNFU4MMKYSCFH&lid=LSTSGLFNFU4MMKYSCFHCNIBKD&marketplace=FLIPKART&q=sunglasses&store=26x&srno=s_1_36&otracker=search&otracker1=search&fm=SEARCH&iid=en_7bokWOoG6qnmxdktFltJqJN%2BdQkT51OxsZBWZlnsYyJ4ImV73VLalwGo8782NAyLl9RyuLAmn1gKqb5FjUmCnQ%3D%3D&ppt=hp&ppn=homepage&ssid=e05gvetz400000001628848907989&qH=2cc465e3eef5bff0',\n",
       " 'https://www.flipkart.com/phenomenal-retro-square-sunglasses/p/itm1ead9ddbbb3d8?pid=SGLFUBFWNBFEAVD3&lid=LSTSGLFUBFWNBFEAVD31E0HIC&marketplace=FLIPKART&q=sunglasses&store=26x&srno=s_1_37&otracker=search&otracker1=search&fm=SEARCH&iid=3dc469a3-1009-47b2-baa9-31785d1a591b.SGLFUBFWNBFEAVD3.SEARCH&ppt=hp&ppn=homepage&ssid=e05gvetz400000001628848907989&qH=2cc465e3eef5bff0',\n",
       " 'https://www.flipkart.com/fravy-retro-square-sunglasses/p/itm04fda6395be09?pid=SGLFVSMZSXHDR3QG&lid=LSTSGLFVSMZSXHDR3QGLQ4IJX&marketplace=FLIPKART&q=sunglasses&store=26x&srno=s_1_38&otracker=search&otracker1=search&fm=SEARCH&iid=3dc469a3-1009-47b2-baa9-31785d1a591b.SGLFVSMZSXHDR3QG.SEARCH&ppt=hp&ppn=homepage&ssid=e05gvetz400000001628848907989&qH=2cc465e3eef5bff0',\n",
       " 'https://www.flipkart.com/shaah-collections-round-sunglasses/p/itmff9749a242cb7?pid=SGLFSHGW3ZF7QTJZ&lid=LSTSGLFSHGW3ZF7QTJZNP12XI&marketplace=FLIPKART&q=sunglasses&store=26x&spotlightTagId=TrendingId_26x&srno=s_1_39&otracker=search&otracker1=search&fm=SEARCH&iid=3dc469a3-1009-47b2-baa9-31785d1a591b.SGLFSHGW3ZF7QTJZ.SEARCH&ppt=hp&ppn=homepage&ssid=e05gvetz400000001628848907989&qH=2cc465e3eef5bff0',\n",
       " 'https://www.flipkart.com/royal-son-retro-square-sunglasses/p/itmc284e2fbc6fa7?pid=SGLFUKA4TEK8YH7G&lid=LSTSGLFUKA4TEK8YH7GEVKCK4&marketplace=FLIPKART&q=sunglasses&store=26x&srno=s_1_40&otracker=search&otracker1=search&fm=SEARCH&iid=en_7bokWOoG6qnmxdktFltJqJN%2BdQkT51OxsZBWZlnsYyJjhNy6fYjYED9wYptGE9ab7kJqLHg5Ym7%2Bc1XbeMXYGw%3D%3D&ppt=hp&ppn=homepage&ssid=e05gvetz400000001628848907989&qH=2cc465e3eef5bff0']"
      ]
     },
     "execution_count": 127,
     "metadata": {},
     "output_type": "execute_result"
    }
   ],
   "source": [
    "glass_urls=[]\n",
    "url2=driver.find_elements_by_xpath(\"//a[@class='_2UzuFa']\")\n",
    "for i in url2:\n",
    "    glass_urls.append(i.get_attribute('href'))\n",
    "glass_urls    "
   ]
  },
  {
   "cell_type": "code",
   "execution_count": 383,
   "metadata": {},
   "outputs": [
    {
     "data": {
      "text/plain": [
       "40"
      ]
     },
     "execution_count": 383,
     "metadata": {},
     "output_type": "execute_result"
    }
   ],
   "source": [
    "sunglass=[]\n",
    "for i in glass_urls:\n",
    "    driver.get(i)\n",
    "    try:\n",
    "        sun=driver.find_element_by_xpath(\"//h1[@class='yhB1nd']//span[1]\")\n",
    "        sunglass.append(sun.text)\n",
    "    except:\n",
    "        pass\n",
    "len(sunglass)"
   ]
  },
  {
   "cell_type": "code",
   "execution_count": 384,
   "metadata": {},
   "outputs": [
    {
     "data": {
      "text/plain": [
       "40"
      ]
     },
     "execution_count": 384,
     "metadata": {},
     "output_type": "execute_result"
    }
   ],
   "source": [
    "description=[]\n",
    "for i in glass_urls:\n",
    "    driver.get(i)\n",
    "    try:\n",
    "        des=driver.find_element_by_xpath(\"//span[@class='B_NuCI']\")\n",
    "        description.append(des.text)\n",
    "    except:\n",
    "        pass\n",
    "len(description)"
   ]
  },
  {
   "cell_type": "code",
   "execution_count": 386,
   "metadata": {},
   "outputs": [
    {
     "data": {
      "text/plain": [
       "40"
      ]
     },
     "execution_count": 386,
     "metadata": {},
     "output_type": "execute_result"
    }
   ],
   "source": [
    "price=[]\n",
    "for i in glass_urls:\n",
    "    driver.get(i)\n",
    "    try:\n",
    "        pi=driver.find_element_by_xpath(\"//div[@class='_30jeq3 _16Jk6d']\")\n",
    "        price.append(pi.text)\n",
    "    except:\n",
    "        pass\n",
    "len(price)"
   ]
  },
  {
   "cell_type": "code",
   "execution_count": 387,
   "metadata": {},
   "outputs": [
    {
     "data": {
      "text/plain": [
       "40"
      ]
     },
     "execution_count": 387,
     "metadata": {},
     "output_type": "execute_result"
    }
   ],
   "source": [
    "discount=[]\n",
    "for i in glass_urls:\n",
    "    driver.get(i)\n",
    "    try:\n",
    "        di=driver.find_element_by_xpath(\"//div[@class='_3Ay6Sb _31Dcoz pZkvcx']//span\")\n",
    "        discount.append(di.text)\n",
    "    except:\n",
    "        pass\n",
    "len(discount)"
   ]
  },
  {
   "cell_type": "code",
   "execution_count": 388,
   "metadata": {},
   "outputs": [],
   "source": [
    "search_glass=driver.find_element_by_xpath('/html/body/div[1]/div/div[1]/div[1]/div[2]/div[2]/form/div/div/input')\n",
    "#search_job\n",
    "search_glass.send_keys(\"sunglasses\")"
   ]
  },
  {
   "cell_type": "code",
   "execution_count": 390,
   "metadata": {},
   "outputs": [],
   "source": [
    "btn_glass=driver.find_element_by_xpath(\"//button[@class='L0Z3Pu']\")\n",
    "#search_btn\n",
    "btn_glass.click()"
   ]
  },
  {
   "cell_type": "code",
   "execution_count": 391,
   "metadata": {},
   "outputs": [],
   "source": [
    "next_btn=driver.find_element_by_xpath(\"//a[@class='_1LKTO3']\")\n",
    "#search_btn\n",
    "next_btn.click()"
   ]
  },
  {
   "cell_type": "code",
   "execution_count": 392,
   "metadata": {},
   "outputs": [
    {
     "data": {
      "text/plain": [
       "40"
      ]
     },
     "execution_count": 392,
     "metadata": {},
     "output_type": "execute_result"
    }
   ],
   "source": [
    "glass_urls2=[]\n",
    "url3=driver.find_elements_by_xpath(\"//a[@class='_2UzuFa']\")\n",
    "for i in url3:\n",
    "    glass_urls2.append(i.get_attribute('href'))\n",
    "len(glass_urls2 )"
   ]
  },
  {
   "cell_type": "code",
   "execution_count": 393,
   "metadata": {},
   "outputs": [
    {
     "data": {
      "text/plain": [
       "80"
      ]
     },
     "execution_count": 393,
     "metadata": {},
     "output_type": "execute_result"
    }
   ],
   "source": [
    "#sunglass=[]\n",
    "for i in glass_urls2:\n",
    "    driver.get(i)\n",
    "    try:\n",
    "        sun=driver.find_element_by_xpath(\"//h1[@class='yhB1nd']//span[1]\")\n",
    "        sunglass.append(sun.text)\n",
    "    except:\n",
    "        pass\n",
    "len(sunglass)"
   ]
  },
  {
   "cell_type": "code",
   "execution_count": 394,
   "metadata": {},
   "outputs": [
    {
     "data": {
      "text/plain": [
       "80"
      ]
     },
     "execution_count": 394,
     "metadata": {},
     "output_type": "execute_result"
    }
   ],
   "source": [
    "for i in glass_urls2:\n",
    "    driver.get(i)\n",
    "    try:\n",
    "        des=driver.find_element_by_xpath(\"//span[@class='B_NuCI']\")\n",
    "        description.append(des.text)\n",
    "    except:\n",
    "        pass\n",
    "len(description)"
   ]
  },
  {
   "cell_type": "code",
   "execution_count": 395,
   "metadata": {},
   "outputs": [
    {
     "data": {
      "text/plain": [
       "80"
      ]
     },
     "execution_count": 395,
     "metadata": {},
     "output_type": "execute_result"
    }
   ],
   "source": [
    "for i in glass_urls2:\n",
    "    driver.get(i)\n",
    "    try:\n",
    "        pi=driver.find_element_by_xpath(\"//div[@class='_30jeq3 _16Jk6d']\")\n",
    "        price.append(pi.text)\n",
    "    except:\n",
    "        pass\n",
    "len(price)"
   ]
  },
  {
   "cell_type": "code",
   "execution_count": 396,
   "metadata": {},
   "outputs": [
    {
     "data": {
      "text/plain": [
       "80"
      ]
     },
     "execution_count": 396,
     "metadata": {},
     "output_type": "execute_result"
    }
   ],
   "source": [
    "\n",
    "for i in glass_urls2:\n",
    "    driver.get(i)\n",
    "    try:\n",
    "        di=driver.find_element_by_xpath(\"//div[@class='_3Ay6Sb _31Dcoz pZkvcx']//span\")\n",
    "        discount.append(di.text)\n",
    "    except:\n",
    "        pass\n",
    "len(discount)"
   ]
  },
  {
   "cell_type": "code",
   "execution_count": 397,
   "metadata": {},
   "outputs": [],
   "source": [
    "search_glass=driver.find_element_by_xpath('/html/body/div[1]/div/div[1]/div[1]/div[2]/div[2]/form/div/div/input')\n",
    "#search_job\n",
    "search_glass.send_keys(\"sunglasses\")"
   ]
  },
  {
   "cell_type": "code",
   "execution_count": 398,
   "metadata": {},
   "outputs": [],
   "source": [
    "btn_glass=driver.find_element_by_xpath(\"//button[@class='L0Z3Pu']\")\n",
    "#search_btn\n",
    "btn_glass.click()"
   ]
  },
  {
   "cell_type": "code",
   "execution_count": 402,
   "metadata": {},
   "outputs": [],
   "source": [
    "next_btn=driver.find_element_by_xpath(\"//a[@class='_1LKTO3']\")\n",
    "#search_btn\n",
    "next_btn.click()"
   ]
  },
  {
   "cell_type": "code",
   "execution_count": 403,
   "metadata": {},
   "outputs": [],
   "source": [
    "next_btn2=driver.find_element_by_xpath(\"//a[@class='_1LKTO3']//span\")\n",
    "#search_btn\n",
    "next_btn2.click()"
   ]
  },
  {
   "cell_type": "code",
   "execution_count": 404,
   "metadata": {},
   "outputs": [
    {
     "data": {
      "text/plain": [
       "40"
      ]
     },
     "execution_count": 404,
     "metadata": {},
     "output_type": "execute_result"
    }
   ],
   "source": [
    "glass_urls3=[]\n",
    "url4=driver.find_elements_by_xpath(\"//a[@class='_2UzuFa']\")\n",
    "for i in url4:\n",
    "    glass_urls3.append(i.get_attribute('href'))\n",
    "len(glass_urls3 )"
   ]
  },
  {
   "cell_type": "code",
   "execution_count": 405,
   "metadata": {},
   "outputs": [
    {
     "data": {
      "text/plain": [
       "120"
      ]
     },
     "execution_count": 405,
     "metadata": {},
     "output_type": "execute_result"
    }
   ],
   "source": [
    "for i in glass_urls3:\n",
    "    driver.get(i)\n",
    "    try:\n",
    "        sun=driver.find_element_by_xpath(\"//h1[@class='yhB1nd']//span[1]\")\n",
    "        sunglass.append(sun.text)\n",
    "    except:\n",
    "        pass\n",
    "len(sunglass)"
   ]
  },
  {
   "cell_type": "code",
   "execution_count": 406,
   "metadata": {},
   "outputs": [
    {
     "data": {
      "text/plain": [
       "120"
      ]
     },
     "execution_count": 406,
     "metadata": {},
     "output_type": "execute_result"
    }
   ],
   "source": [
    "for i in glass_urls3:\n",
    "    driver.get(i)\n",
    "    try:\n",
    "        des=driver.find_element_by_xpath(\"//span[@class='B_NuCI']\")\n",
    "        description.append(des.text)\n",
    "    except:\n",
    "        pass\n",
    "len(description)"
   ]
  },
  {
   "cell_type": "code",
   "execution_count": 407,
   "metadata": {},
   "outputs": [
    {
     "data": {
      "text/plain": [
       "120"
      ]
     },
     "execution_count": 407,
     "metadata": {},
     "output_type": "execute_result"
    }
   ],
   "source": [
    "for i in glass_urls3:\n",
    "    driver.get(i)\n",
    "    try:\n",
    "        pi=driver.find_element_by_xpath(\"//div[@class='_30jeq3 _16Jk6d']\")\n",
    "        price.append(pi.text)\n",
    "    except:\n",
    "        pass\n",
    "len(price)"
   ]
  },
  {
   "cell_type": "code",
   "execution_count": 408,
   "metadata": {},
   "outputs": [
    {
     "data": {
      "text/plain": [
       "120"
      ]
     },
     "execution_count": 408,
     "metadata": {},
     "output_type": "execute_result"
    }
   ],
   "source": [
    "\n",
    "for i in glass_urls3:\n",
    "    driver.get(i)\n",
    "    try:\n",
    "        di=driver.find_element_by_xpath(\"//div[@class='_3Ay6Sb _31Dcoz pZkvcx']//span\")\n",
    "        discount.append(di.text)\n",
    "    except:\n",
    "        pass\n",
    "len(discount)"
   ]
  },
  {
   "cell_type": "code",
   "execution_count": 409,
   "metadata": {},
   "outputs": [
    {
     "data": {
      "text/html": [
       "<div>\n",
       "<style scoped>\n",
       "    .dataframe tbody tr th:only-of-type {\n",
       "        vertical-align: middle;\n",
       "    }\n",
       "\n",
       "    .dataframe tbody tr th {\n",
       "        vertical-align: top;\n",
       "    }\n",
       "\n",
       "    .dataframe thead th {\n",
       "        text-align: right;\n",
       "    }\n",
       "</style>\n",
       "<table border=\"1\" class=\"dataframe\">\n",
       "  <thead>\n",
       "    <tr style=\"text-align: right;\">\n",
       "      <th></th>\n",
       "      <th>Sunglass</th>\n",
       "      <th>Description</th>\n",
       "      <th>Price</th>\n",
       "      <th>Discount</th>\n",
       "    </tr>\n",
       "  </thead>\n",
       "  <tbody>\n",
       "    <tr>\n",
       "      <th>0</th>\n",
       "      <td>kingsunglasses</td>\n",
       "      <td>UV Protection Rectangular Sunglasses (55)  (Fo...</td>\n",
       "      <td>₹349</td>\n",
       "      <td>76% off</td>\n",
       "    </tr>\n",
       "    <tr>\n",
       "      <th>1</th>\n",
       "      <td>Fastrack</td>\n",
       "      <td>UV Protection Aviator Sunglasses (Free Size)  ...</td>\n",
       "      <td>₹1,479</td>\n",
       "      <td>26% off</td>\n",
       "    </tr>\n",
       "    <tr>\n",
       "      <th>2</th>\n",
       "      <td>Elligator</td>\n",
       "      <td>UV Protection Round Sunglasses (54)  (For Men ...</td>\n",
       "      <td>₹331</td>\n",
       "      <td>74% off</td>\n",
       "    </tr>\n",
       "    <tr>\n",
       "      <th>3</th>\n",
       "      <td>PIRASO</td>\n",
       "      <td>UV Protection Aviator Sunglasses (Free Size)  ...</td>\n",
       "      <td>₹314</td>\n",
       "      <td>80% off</td>\n",
       "    </tr>\n",
       "    <tr>\n",
       "      <th>4</th>\n",
       "      <td>Fastrack</td>\n",
       "      <td>Mirrored, UV Protection Wayfarer Sunglasses (F...</td>\n",
       "      <td>₹709</td>\n",
       "      <td>29% off</td>\n",
       "    </tr>\n",
       "    <tr>\n",
       "      <th>...</th>\n",
       "      <td>...</td>\n",
       "      <td>...</td>\n",
       "      <td>...</td>\n",
       "      <td>...</td>\n",
       "    </tr>\n",
       "    <tr>\n",
       "      <th>95</th>\n",
       "      <td>ROYAL SON</td>\n",
       "      <td>Polarized, UV Protection Rectangular Sunglasse...</td>\n",
       "      <td>₹664</td>\n",
       "      <td>55% off</td>\n",
       "    </tr>\n",
       "    <tr>\n",
       "      <th>96</th>\n",
       "      <td>ROYAL SON</td>\n",
       "      <td>UV Protection Wayfarer Sunglasses (55)  (For M...</td>\n",
       "      <td>₹248</td>\n",
       "      <td>80% off</td>\n",
       "    </tr>\n",
       "    <tr>\n",
       "      <th>97</th>\n",
       "      <td>Crackers</td>\n",
       "      <td>UV Protection Aviator Sunglasses (55)  (For Me...</td>\n",
       "      <td>₹170</td>\n",
       "      <td>82% off</td>\n",
       "    </tr>\n",
       "    <tr>\n",
       "      <th>98</th>\n",
       "      <td>Fravy</td>\n",
       "      <td>UV Protection, Gradient, Night Vision Retro Sq...</td>\n",
       "      <td>₹305</td>\n",
       "      <td>84% off</td>\n",
       "    </tr>\n",
       "    <tr>\n",
       "      <th>99</th>\n",
       "      <td>Wrogn</td>\n",
       "      <td>UV Protection Aviator Sunglasses (60)  (For Me...</td>\n",
       "      <td>₹1,009</td>\n",
       "      <td>68% off</td>\n",
       "    </tr>\n",
       "  </tbody>\n",
       "</table>\n",
       "<p>100 rows × 4 columns</p>\n",
       "</div>"
      ],
      "text/plain": [
       "           Sunglass                                        Description  \\\n",
       "0   kingsunglasses   UV Protection Rectangular Sunglasses (55)  (Fo...   \n",
       "1         Fastrack   UV Protection Aviator Sunglasses (Free Size)  ...   \n",
       "2        Elligator   UV Protection Round Sunglasses (54)  (For Men ...   \n",
       "3           PIRASO   UV Protection Aviator Sunglasses (Free Size)  ...   \n",
       "4         Fastrack   Mirrored, UV Protection Wayfarer Sunglasses (F...   \n",
       "..              ...                                                ...   \n",
       "95       ROYAL SON   Polarized, UV Protection Rectangular Sunglasse...   \n",
       "96       ROYAL SON   UV Protection Wayfarer Sunglasses (55)  (For M...   \n",
       "97        Crackers   UV Protection Aviator Sunglasses (55)  (For Me...   \n",
       "98           Fravy   UV Protection, Gradient, Night Vision Retro Sq...   \n",
       "99           Wrogn   UV Protection Aviator Sunglasses (60)  (For Me...   \n",
       "\n",
       "     Price Discount  \n",
       "0     ₹349  76% off  \n",
       "1   ₹1,479  26% off  \n",
       "2     ₹331  74% off  \n",
       "3     ₹314  80% off  \n",
       "4     ₹709  29% off  \n",
       "..     ...      ...  \n",
       "95    ₹664  55% off  \n",
       "96    ₹248  80% off  \n",
       "97    ₹170  82% off  \n",
       "98    ₹305  84% off  \n",
       "99  ₹1,009  68% off  \n",
       "\n",
       "[100 rows x 4 columns]"
      ]
     },
     "execution_count": 409,
     "metadata": {},
     "output_type": "execute_result"
    }
   ],
   "source": [
    "Flipkart_glass=pd.DataFrame({})\n",
    "Flipkart_glass['Sunglass']=sunglass[:100]\n",
    "Flipkart_glass['Description']=description[:100]\n",
    "Flipkart_glass['Price']=price[:100]  \n",
    "Flipkart_glass['Discount']=discount[:100]\n",
    "Flipkart_glass"
   ]
  },
  {
   "cell_type": "markdown",
   "metadata": {},
   "source": [
    "Q7: Scrape 100 reviews data from flipkart.com for iphone11 phone. You have to \n",
    "go the link: https://www.flipkart.com/apple-iphone-11-black-64-gb-includes\u0002earpods-power\u0002adapter/p/itm0f37c2240b217?pid=MOBFKCTSVZAXUHGR&lid=LSTMOBFKC\n",
    "TSVZAXUHGREPBFGI&marketplace.\n",
    "When you will open the above link you will reach to the below shown webpage.\n",
    "These are \n",
    "1. Rating \n",
    "2. Review_summary \n",
    "3. Full review\n",
    "You have to scrape this data for first 100 reviews"
   ]
  },
  {
   "cell_type": "code",
   "execution_count": 135,
   "metadata": {},
   "outputs": [],
   "source": [
    "driver=webdriver.Chrome(r\"chromedriver.exe\")\n",
    "url='https://www.flipkart.com/apple-iphone-11-black-64-gb-includes-earpods-power-adapter/p/itm0f37c2240b217?pid=MOBFKCTSVZAXUHGR&lid=LSTMOBFKCTSVZAXUHGREPBFGI&marketplace'\n",
    "driver.get(url)"
   ]
  },
  {
   "cell_type": "code",
   "execution_count": 136,
   "metadata": {},
   "outputs": [],
   "source": [
    "all_review=driver.find_element_by_xpath(\"//div[@class='_3UAT2v _16PBlm']//span\")\n",
    "#search_btn\n",
    "all_review.click()"
   ]
  },
  {
   "cell_type": "code",
   "execution_count": 137,
   "metadata": {},
   "outputs": [
    {
     "data": {
      "text/plain": [
       "['https://www.flipkart.com/apple-iphone-11-black-64-gb-includes-earpods-power-adapter/product-reviews/itm0f37c2240b217?pid=MOBFKCTSVZAXUHGR&lid=LSTMOBFKCTSVZAXUHGREPBFGI&marketplace=FLIPKART&page=1',\n",
       " 'https://www.flipkart.com/apple-iphone-11-black-64-gb-includes-earpods-power-adapter/product-reviews/itm0f37c2240b217?pid=MOBFKCTSVZAXUHGR&lid=LSTMOBFKCTSVZAXUHGREPBFGI&marketplace=FLIPKART&page=2',\n",
       " 'https://www.flipkart.com/apple-iphone-11-black-64-gb-includes-earpods-power-adapter/product-reviews/itm0f37c2240b217?pid=MOBFKCTSVZAXUHGR&lid=LSTMOBFKCTSVZAXUHGREPBFGI&marketplace=FLIPKART&page=3',\n",
       " 'https://www.flipkart.com/apple-iphone-11-black-64-gb-includes-earpods-power-adapter/product-reviews/itm0f37c2240b217?pid=MOBFKCTSVZAXUHGR&lid=LSTMOBFKCTSVZAXUHGREPBFGI&marketplace=FLIPKART&page=4',\n",
       " 'https://www.flipkart.com/apple-iphone-11-black-64-gb-includes-earpods-power-adapter/product-reviews/itm0f37c2240b217?pid=MOBFKCTSVZAXUHGR&lid=LSTMOBFKCTSVZAXUHGREPBFGI&marketplace=FLIPKART&page=5',\n",
       " 'https://www.flipkart.com/apple-iphone-11-black-64-gb-includes-earpods-power-adapter/product-reviews/itm0f37c2240b217?pid=MOBFKCTSVZAXUHGR&lid=LSTMOBFKCTSVZAXUHGREPBFGI&marketplace=FLIPKART&page=6',\n",
       " 'https://www.flipkart.com/apple-iphone-11-black-64-gb-includes-earpods-power-adapter/product-reviews/itm0f37c2240b217?pid=MOBFKCTSVZAXUHGR&lid=LSTMOBFKCTSVZAXUHGREPBFGI&marketplace=FLIPKART&page=7',\n",
       " 'https://www.flipkart.com/apple-iphone-11-black-64-gb-includes-earpods-power-adapter/product-reviews/itm0f37c2240b217?pid=MOBFKCTSVZAXUHGR&lid=LSTMOBFKCTSVZAXUHGREPBFGI&marketplace=FLIPKART&page=8',\n",
       " 'https://www.flipkart.com/apple-iphone-11-black-64-gb-includes-earpods-power-adapter/product-reviews/itm0f37c2240b217?pid=MOBFKCTSVZAXUHGR&lid=LSTMOBFKCTSVZAXUHGREPBFGI&marketplace=FLIPKART&page=9',\n",
       " 'https://www.flipkart.com/apple-iphone-11-black-64-gb-includes-earpods-power-adapter/product-reviews/itm0f37c2240b217?pid=MOBFKCTSVZAXUHGR&lid=LSTMOBFKCTSVZAXUHGREPBFGI&marketplace=FLIPKART&page=10',\n",
       " 'https://www.flipkart.com/apple-iphone-11-black-64-gb-includes-earpods-power-adapter/product-reviews/itm0f37c2240b217?pid=MOBFKCTSVZAXUHGR&lid=LSTMOBFKCTSVZAXUHGREPBFGI&marketplace=FLIPKART&page=2']"
      ]
     },
     "execution_count": 137,
     "metadata": {},
     "output_type": "execute_result"
    }
   ],
   "source": [
    "page_url=[]\n",
    "url=driver.find_elements_by_xpath(\"//div[@class='_2MImiq _1Qnn1K']//a\")\n",
    "#len(url)\n",
    "for i in url:\n",
    "    page_url.append(i.get_attribute(\"href\"))\n",
    "page_url    "
   ]
  },
  {
   "cell_type": "code",
   "execution_count": 139,
   "metadata": {},
   "outputs": [],
   "source": [
    "rating_star=[]\n",
    "for i in page_url:\n",
    "    driver.get(i)\n",
    "    try:\n",
    "        rating=driver.find_elements_by_xpath(\"//div[@class='_3LWZlK _1BLPMq']\")\n",
    "        for i in rating:\n",
    "            rating_star.append(i.text)\n",
    "    except:\n",
    "        rating_star.append(\"--\")\n",
    "\n",
    "#rating_star"
   ]
  },
  {
   "cell_type": "code",
   "execution_count": 140,
   "metadata": {},
   "outputs": [],
   "source": [
    "review_summary=[]\n",
    "for i in page_url:\n",
    "    driver.get(i)\n",
    "    try:\n",
    "        rev_sum=driver.find_elements_by_xpath(\"//p[@class='_2-N8zT']\")\n",
    "        for i in rev_sum:\n",
    "            review_summary.append(i.text)\n",
    "    except:\n",
    "        review_summary.append(\"--\")\n",
    "\n",
    "#review_summary"
   ]
  },
  {
   "cell_type": "code",
   "execution_count": 142,
   "metadata": {},
   "outputs": [],
   "source": [
    "review_description=[]\n",
    "for i in page_url:\n",
    "    driver.get(i)\n",
    "    try:\n",
    "        full_rev=driver.find_elements_by_xpath(\"//div[@class='t-ZTKy']\")\n",
    "        for i in full_rev:\n",
    "            review_description.append(i.text.replace(\"\\n\",\" \").strip())\n",
    "    except:\n",
    "        review_description.append(\"--\")\n",
    "    \n",
    "\n",
    "#review_description"
   ]
  },
  {
   "cell_type": "code",
   "execution_count": 143,
   "metadata": {},
   "outputs": [
    {
     "data": {
      "text/html": [
       "<div>\n",
       "<style scoped>\n",
       "    .dataframe tbody tr th:only-of-type {\n",
       "        vertical-align: middle;\n",
       "    }\n",
       "\n",
       "    .dataframe tbody tr th {\n",
       "        vertical-align: top;\n",
       "    }\n",
       "\n",
       "    .dataframe thead th {\n",
       "        text-align: right;\n",
       "    }\n",
       "</style>\n",
       "<table border=\"1\" class=\"dataframe\">\n",
       "  <thead>\n",
       "    <tr style=\"text-align: right;\">\n",
       "      <th></th>\n",
       "      <th>Rating</th>\n",
       "      <th>Review Summary</th>\n",
       "      <th>Review</th>\n",
       "    </tr>\n",
       "  </thead>\n",
       "  <tbody>\n",
       "    <tr>\n",
       "      <th>0</th>\n",
       "      <td>5</td>\n",
       "      <td>Brilliant</td>\n",
       "      <td>The Best Phone for the Money  The iPhone 11 of...</td>\n",
       "    </tr>\n",
       "    <tr>\n",
       "      <th>1</th>\n",
       "      <td>5</td>\n",
       "      <td>Simply awesome</td>\n",
       "      <td>Really satisfied with the Product I received.....</td>\n",
       "    </tr>\n",
       "    <tr>\n",
       "      <th>2</th>\n",
       "      <td>5</td>\n",
       "      <td>Perfect product!</td>\n",
       "      <td>Amazing phone with great cameras and better ba...</td>\n",
       "    </tr>\n",
       "    <tr>\n",
       "      <th>3</th>\n",
       "      <td>5</td>\n",
       "      <td>Fabulous!</td>\n",
       "      <td>This is my first iOS phone. I am very happy wi...</td>\n",
       "    </tr>\n",
       "    <tr>\n",
       "      <th>4</th>\n",
       "      <td>5</td>\n",
       "      <td>Worth every penny</td>\n",
       "      <td>Previously I was using one plus 3t it was a gr...</td>\n",
       "    </tr>\n",
       "    <tr>\n",
       "      <th>...</th>\n",
       "      <td>...</td>\n",
       "      <td>...</td>\n",
       "      <td>...</td>\n",
       "    </tr>\n",
       "    <tr>\n",
       "      <th>95</th>\n",
       "      <td>5</td>\n",
       "      <td>Super!</td>\n",
       "      <td>This is my first ever iPhone. And I truly don’...</td>\n",
       "    </tr>\n",
       "    <tr>\n",
       "      <th>96</th>\n",
       "      <td>5</td>\n",
       "      <td>Fabulous!</td>\n",
       "      <td>Everything is perfect pictures come out so cle...</td>\n",
       "    </tr>\n",
       "    <tr>\n",
       "      <th>97</th>\n",
       "      <td>5</td>\n",
       "      <td>Just wow!</td>\n",
       "      <td>The ultimate performance Camera is superb The ...</td>\n",
       "    </tr>\n",
       "    <tr>\n",
       "      <th>98</th>\n",
       "      <td>5</td>\n",
       "      <td>Mind-blowing purchase</td>\n",
       "      <td>Excellent camera 📸 And Display touching very N...</td>\n",
       "    </tr>\n",
       "    <tr>\n",
       "      <th>99</th>\n",
       "      <td>5</td>\n",
       "      <td>Excellent</td>\n",
       "      <td>A perfect phone and a good battery super camer...</td>\n",
       "    </tr>\n",
       "  </tbody>\n",
       "</table>\n",
       "<p>100 rows × 3 columns</p>\n",
       "</div>"
      ],
      "text/plain": [
       "   Rating         Review Summary  \\\n",
       "0       5              Brilliant   \n",
       "1       5         Simply awesome   \n",
       "2       5       Perfect product!   \n",
       "3       5              Fabulous!   \n",
       "4       5      Worth every penny   \n",
       "..    ...                    ...   \n",
       "95      5                 Super!   \n",
       "96      5              Fabulous!   \n",
       "97      5              Just wow!   \n",
       "98      5  Mind-blowing purchase   \n",
       "99      5              Excellent   \n",
       "\n",
       "                                               Review  \n",
       "0   The Best Phone for the Money  The iPhone 11 of...  \n",
       "1   Really satisfied with the Product I received.....  \n",
       "2   Amazing phone with great cameras and better ba...  \n",
       "3   This is my first iOS phone. I am very happy wi...  \n",
       "4   Previously I was using one plus 3t it was a gr...  \n",
       "..                                                ...  \n",
       "95  This is my first ever iPhone. And I truly don’...  \n",
       "96  Everything is perfect pictures come out so cle...  \n",
       "97  The ultimate performance Camera is superb The ...  \n",
       "98  Excellent camera 📸 And Display touching very N...  \n",
       "99  A perfect phone and a good battery super camer...  \n",
       "\n",
       "[100 rows x 3 columns]"
      ]
     },
     "execution_count": 143,
     "metadata": {},
     "output_type": "execute_result"
    }
   ],
   "source": [
    "Flipkart_review=pd.DataFrame({})\n",
    "Flipkart_review['Rating']=rating_star[:100]\n",
    "Flipkart_review['Review Summary']=review_summary[:100]\n",
    "Flipkart_review['Review']=review_description[:100]  \n",
    "Flipkart_review"
   ]
  },
  {
   "cell_type": "markdown",
   "metadata": {},
   "source": [
    "Q8: Scrape data for first 100 sneakers you find when you visit flipkart.com and \n",
    "search for “sneakers” in the search field.\n",
    "You have to scrape 4 attributes of each sneaker :\n",
    "1. Brand\n",
    "2. Product Description\n",
    "3. Price\n",
    "4. discount %\n",
    "As shown in the below image, you have to scrape the tick marked attributes.\n",
    "Also note that all the steps required during scraping should be done through code \n",
    "only and not manually\n"
   ]
  },
  {
   "cell_type": "code",
   "execution_count": 443,
   "metadata": {},
   "outputs": [],
   "source": [
    "driver=webdriver.Chrome(r\"chromedriver.exe\")\n",
    "url='https://www.flipkart.com/'\n",
    "driver.get(url)"
   ]
  },
  {
   "cell_type": "code",
   "execution_count": 444,
   "metadata": {},
   "outputs": [],
   "source": [
    "cross_btn=driver.find_element_by_xpath(\"//button[@class='_2KpZ6l _2doB4z']\")\n",
    "#search_btn\n",
    "cross_btn.click()"
   ]
  },
  {
   "cell_type": "code",
   "execution_count": 445,
   "metadata": {},
   "outputs": [],
   "source": [
    "search_sneaker=driver.find_element_by_xpath('/html/body/div[1]/div/div[1]/div[1]/div[2]/div[2]/form/div/div/input')\n",
    "#search_job\n",
    "search_sneaker.send_keys(\"sneakers\")"
   ]
  },
  {
   "cell_type": "code",
   "execution_count": 446,
   "metadata": {},
   "outputs": [],
   "source": [
    "btn_sne=driver.find_element_by_xpath(\"//button[@class='L0Z3Pu']\")\n",
    "#search_btn\n",
    "btn_sne.click()"
   ]
  },
  {
   "cell_type": "code",
   "execution_count": 447,
   "metadata": {},
   "outputs": [
    {
     "data": {
      "text/plain": [
       "['https://www.flipkart.com/search?q=sneakers&otracker=search&otracker1=search&marketplace=FLIPKART&as-show=off&as=off&page=1',\n",
       " 'https://www.flipkart.com/search?q=sneakers&otracker=search&otracker1=search&marketplace=FLIPKART&as-show=off&as=off&page=2',\n",
       " 'https://www.flipkart.com/search?q=sneakers&otracker=search&otracker1=search&marketplace=FLIPKART&as-show=off&as=off&page=3',\n",
       " 'https://www.flipkart.com/search?q=sneakers&otracker=search&otracker1=search&marketplace=FLIPKART&as-show=off&as=off&page=4',\n",
       " 'https://www.flipkart.com/search?q=sneakers&otracker=search&otracker1=search&marketplace=FLIPKART&as-show=off&as=off&page=5',\n",
       " 'https://www.flipkart.com/search?q=sneakers&otracker=search&otracker1=search&marketplace=FLIPKART&as-show=off&as=off&page=6',\n",
       " 'https://www.flipkart.com/search?q=sneakers&otracker=search&otracker1=search&marketplace=FLIPKART&as-show=off&as=off&page=7',\n",
       " 'https://www.flipkart.com/search?q=sneakers&otracker=search&otracker1=search&marketplace=FLIPKART&as-show=off&as=off&page=8',\n",
       " 'https://www.flipkart.com/search?q=sneakers&otracker=search&otracker1=search&marketplace=FLIPKART&as-show=off&as=off&page=9',\n",
       " 'https://www.flipkart.com/search?q=sneakers&otracker=search&otracker1=search&marketplace=FLIPKART&as-show=off&as=off&page=10',\n",
       " 'https://www.flipkart.com/search?q=sneakers&otracker=search&otracker1=search&marketplace=FLIPKART&as-show=off&as=off&page=2']"
      ]
     },
     "execution_count": 447,
     "metadata": {},
     "output_type": "execute_result"
    }
   ],
   "source": [
    "sneaker_url=[]\n",
    "url1=driver.find_elements_by_xpath(\"//nav[@class='yFHi8N']//a\")\n",
    "#len(url)\n",
    "for i in url1:\n",
    "    sneaker_url.append(i.get_attribute(\"href\"))\n",
    "sneaker_url   "
   ]
  },
  {
   "cell_type": "code",
   "execution_count": 448,
   "metadata": {},
   "outputs": [
    {
     "data": {
      "text/plain": [
       "440"
      ]
     },
     "execution_count": 448,
     "metadata": {},
     "output_type": "execute_result"
    }
   ],
   "source": [
    "Brand=[]\n",
    "for i in sneaker_url:\n",
    "    driver.get(i)\n",
    "    try:\n",
    "        bn=driver.find_elements_by_xpath(\"//div[@class='_2WkVRV']\")\n",
    "        for i in bn:\n",
    "            Brand.append(i.text)\n",
    "    except:\n",
    "        pass\n",
    "\n",
    "len(Brand)"
   ]
  },
  {
   "cell_type": "code",
   "execution_count": 452,
   "metadata": {},
   "outputs": [
    {
     "data": {
      "text/plain": [
       "440"
      ]
     },
     "execution_count": 452,
     "metadata": {},
     "output_type": "execute_result"
    }
   ],
   "source": [
    "Product_des=[]\n",
    "for i in sneaker_url:\n",
    "    driver.get(i)\n",
    "    try:\n",
    "        prd_des=driver.find_elements_by_xpath(\"//div[@class='_2B099V']//a[1]\")\n",
    "        for i in prd_des:\n",
    "            Product_des.append(i.text)\n",
    "    except:\n",
    "        pass\n",
    "\n",
    "len(Product_des)"
   ]
  },
  {
   "cell_type": "code",
   "execution_count": 453,
   "metadata": {},
   "outputs": [
    {
     "data": {
      "text/plain": [
       "440"
      ]
     },
     "execution_count": 453,
     "metadata": {},
     "output_type": "execute_result"
    }
   ],
   "source": [
    "Product_price=[]\n",
    "for i in sneaker_url:\n",
    "    driver.get(i)\n",
    "    try:\n",
    "        pri=driver.find_elements_by_xpath(\"//div[@class='_30jeq3']\")\n",
    "        for i in pri:\n",
    "            Product_price.append(i.text)\n",
    "    except:\n",
    "        pass\n",
    "\n",
    "len(Product_price)"
   ]
  },
  {
   "cell_type": "code",
   "execution_count": 466,
   "metadata": {},
   "outputs": [],
   "source": [
    "Product_discount=[]\n",
    "for i in sneaker_url:\n",
    "    driver.get(i)\n",
    "    try:\n",
    "        descnt=driver.find_elements_by_xpath(\"//a[@class='_3bPFwb']//div[3]\")\n",
    "        for i in descnt:\n",
    "            Product_discount.append(i.text)\n",
    "    except:\n",
    "        Product_discount.append('--')\n",
    "    \n",
    "\n",
    "len(Product_discount)"
   ]
  },
  {
   "cell_type": "code",
   "execution_count": 469,
   "metadata": {},
   "outputs": [
    {
     "data": {
      "text/html": [
       "<div>\n",
       "<style scoped>\n",
       "    .dataframe tbody tr th:only-of-type {\n",
       "        vertical-align: middle;\n",
       "    }\n",
       "\n",
       "    .dataframe tbody tr th {\n",
       "        vertical-align: top;\n",
       "    }\n",
       "\n",
       "    .dataframe thead th {\n",
       "        text-align: right;\n",
       "    }\n",
       "</style>\n",
       "<table border=\"1\" class=\"dataframe\">\n",
       "  <thead>\n",
       "    <tr style=\"text-align: right;\">\n",
       "      <th></th>\n",
       "      <th>Brand</th>\n",
       "      <th>Product description</th>\n",
       "      <th>Price</th>\n",
       "      <th>Discount</th>\n",
       "    </tr>\n",
       "  </thead>\n",
       "  <tbody>\n",
       "    <tr>\n",
       "      <th>0</th>\n",
       "      <td>DUCATI</td>\n",
       "      <td>Sneakers For Men</td>\n",
       "      <td>₹1,289</td>\n",
       "      <td>52% off</td>\n",
       "    </tr>\n",
       "    <tr>\n",
       "      <th>1</th>\n",
       "      <td>luxury fashion</td>\n",
       "      <td>Thunder Sneakers For Men</td>\n",
       "      <td>₹449</td>\n",
       "      <td>50% off</td>\n",
       "    </tr>\n",
       "    <tr>\n",
       "      <th>2</th>\n",
       "      <td>Numenzo</td>\n",
       "      <td>Sneakers For Men</td>\n",
       "      <td>₹378</td>\n",
       "      <td>62% off</td>\n",
       "    </tr>\n",
       "    <tr>\n",
       "      <th>3</th>\n",
       "      <td>World Wear Footwear</td>\n",
       "      <td>5011-Latest Collection Stylish Casual Loafer S...</td>\n",
       "      <td>₹240</td>\n",
       "      <td>75% off</td>\n",
       "    </tr>\n",
       "    <tr>\n",
       "      <th>4</th>\n",
       "      <td>ASTEROID</td>\n",
       "      <td>Original Luxury Branded Fashionable Men's Casu...</td>\n",
       "      <td>₹499</td>\n",
       "      <td>88% off</td>\n",
       "    </tr>\n",
       "    <tr>\n",
       "      <th>...</th>\n",
       "      <td>...</td>\n",
       "      <td>...</td>\n",
       "      <td>...</td>\n",
       "      <td>...</td>\n",
       "    </tr>\n",
       "    <tr>\n",
       "      <th>95</th>\n",
       "      <td>India hub</td>\n",
       "      <td>Unique &amp; Perfect Collection Combo Pack of 02 S...</td>\n",
       "      <td>₹420</td>\n",
       "      <td>40% off</td>\n",
       "    </tr>\n",
       "    <tr>\n",
       "      <th>96</th>\n",
       "      <td>Axter</td>\n",
       "      <td>MESTO Sneakers For Men</td>\n",
       "      <td>₹845</td>\n",
       "      <td>77% off</td>\n",
       "    </tr>\n",
       "    <tr>\n",
       "      <th>97</th>\n",
       "      <td>PUMA</td>\n",
       "      <td>Combo Pack of 2 New Fashion Casual Loafers Sne...</td>\n",
       "      <td>₹498</td>\n",
       "      <td>57% off</td>\n",
       "    </tr>\n",
       "    <tr>\n",
       "      <th>98</th>\n",
       "      <td>ORICUM</td>\n",
       "      <td>Simha IDP Sneakers For Men</td>\n",
       "      <td>₹1,115</td>\n",
       "      <td>62% off</td>\n",
       "    </tr>\n",
       "    <tr>\n",
       "      <th>99</th>\n",
       "      <td>Labbin</td>\n",
       "      <td>Thunder Sneakers For Men</td>\n",
       "      <td>₹1,437</td>\n",
       "      <td>71% off</td>\n",
       "    </tr>\n",
       "  </tbody>\n",
       "</table>\n",
       "<p>100 rows × 4 columns</p>\n",
       "</div>"
      ],
      "text/plain": [
       "                  Brand                                Product description  \\\n",
       "0                DUCATI                                   Sneakers For Men   \n",
       "1        luxury fashion                           Thunder Sneakers For Men   \n",
       "2               Numenzo                                   Sneakers For Men   \n",
       "3   World Wear Footwear  5011-Latest Collection Stylish Casual Loafer S...   \n",
       "4              ASTEROID  Original Luxury Branded Fashionable Men's Casu...   \n",
       "..                  ...                                                ...   \n",
       "95            India hub  Unique & Perfect Collection Combo Pack of 02 S...   \n",
       "96                Axter                             MESTO Sneakers For Men   \n",
       "97                 PUMA  Combo Pack of 2 New Fashion Casual Loafers Sne...   \n",
       "98               ORICUM                         Simha IDP Sneakers For Men   \n",
       "99               Labbin                           Thunder Sneakers For Men   \n",
       "\n",
       "     Price Discount  \n",
       "0   ₹1,289  52% off  \n",
       "1     ₹449  50% off  \n",
       "2     ₹378  62% off  \n",
       "3     ₹240  75% off  \n",
       "4     ₹499  88% off  \n",
       "..     ...      ...  \n",
       "95    ₹420  40% off  \n",
       "96    ₹845  77% off  \n",
       "97    ₹498  57% off  \n",
       "98  ₹1,115  62% off  \n",
       "99  ₹1,437  71% off  \n",
       "\n",
       "[100 rows x 4 columns]"
      ]
     },
     "execution_count": 469,
     "metadata": {},
     "output_type": "execute_result"
    }
   ],
   "source": [
    "Flipkart_Sneaker=pd.DataFrame({})\n",
    "Flipkart_Sneaker['Brand']=Brand[:100]\n",
    "Flipkart_Sneaker['Product description']=Product_des[:100]\n",
    "Flipkart_Sneaker['Price']=Product_price[:100]\n",
    "Flipkart_Sneaker['Discount']=Product_discount[:100]  \n",
    "Flipkart_Sneaker"
   ]
  },
  {
   "cell_type": "markdown",
   "metadata": {},
   "source": [
    " Q9: Go to the link - https://www.myntra.com/shoes\n",
    "Set Price filter to “Rs. 6649 to Rs. 13099” , Color filter to “Black”, as shown in \n",
    "the below image.\n",
    "And then scrape First 100 shoes data you get. The data should include “Brand” of \n",
    "the shoes , Short Shoe description, price of the shoe as shown in the below image.\n"
   ]
  },
  {
   "cell_type": "code",
   "execution_count": 189,
   "metadata": {},
   "outputs": [],
   "source": [
    "driver=webdriver.Chrome(r\"chromedriver.exe\")\n",
    "url='https://www.myntra.com/shoes'\n",
    "driver.get(url)"
   ]
  },
  {
   "cell_type": "code",
   "execution_count": 190,
   "metadata": {},
   "outputs": [],
   "source": [
    "#filter_price=driver.find_element_by_xpath(\"/html/body/div[2]/div/div[1]/main/div[3]/div[1]/section/div/div[5]/ul/li[2]/label\")\n",
    "#search_btn\n",
    "#filter_price.click()"
   ]
  },
  {
   "cell_type": "markdown",
   "metadata": {},
   "source": [
    "# ******Rs. 6649 to Rs. 13099 was not in filter so I have choose to do Rs. 5319 to Rs. 10479'*****\n"
   ]
  },
  {
   "cell_type": "code",
   "execution_count": 191,
   "metadata": {},
   "outputs": [],
   "source": [
    "filter_price=driver.find_element_by_xpath(\"//label[text()='Rs. 5319 to Rs. 10479']\")\n",
    "#search_btn\n",
    "filter_price.click()"
   ]
  },
  {
   "cell_type": "code",
   "execution_count": 192,
   "metadata": {},
   "outputs": [],
   "source": [
    "filter_col=driver.find_element_by_xpath(\"//label[text()='Black']\")\n",
    "#search_btn\n",
    "filter_col.click()"
   ]
  },
  {
   "cell_type": "code",
   "execution_count": null,
   "metadata": {},
   "outputs": [],
   "source": [
    "#filter_col=driver.find_element_by_xpath(\"/html/body/div[2]/div/div[1]/main/div[3]/div[1]/section/div/div[6]/ul/li[1]/label\")\n",
    "#search_btn\n",
    "#filter_col.click()"
   ]
  },
  {
   "cell_type": "code",
   "execution_count": 193,
   "metadata": {},
   "outputs": [
    {
     "data": {
      "text/plain": [
       "['https://www.myntra.com/sports-shoes/nike/nike-men-black-renew-retaliation-tr-3-gym-shoes/14528478/buy',\n",
       " 'https://www.myntra.com/sports-shoes/puma/puma-men-black-cell-fraction-fade-running-shoes/13484274/buy',\n",
       " 'https://www.myntra.com/casual-shoes/nike/nike-men-black--white-blazer-low-77-vintage-leather-sneakers/14528040/buy',\n",
       " 'https://www.myntra.com/sports-shoes/under-armour/under-armour-unisex-black-project-rock-recruit-bsr-woven-design-training-shoes/14649166/buy',\n",
       " 'https://www.myntra.com/casual-shoes/nike/nike-men-black-crater-remixa-sneakers/14528018/buy',\n",
       " 'https://www.myntra.com/sports-shoes/adidas/adidas-women-black-solid-response-sr-running-shoes/12031710/buy',\n",
       " 'https://www.myntra.com/casual-shoes/lacoste/lacoste-men-black-slip-on-sneakers/13430898/buy',\n",
       " 'https://www.myntra.com/sports-shoes/under-armour/under-armour-men-black-woven-design-charged-pursuit-2-se-running-shoes/14649136/buy',\n",
       " 'https://www.myntra.com/sports-shoes/under-armour/under-armour-men-black-charged-pursuit-2-se-running-shoes/14649126/buy',\n",
       " 'https://www.myntra.com/sports-shoes/puma/puma-men-black-hybrid-fuego-running-shoes/10253451/buy',\n",
       " 'https://www.myntra.com/casual-shoes/rare-rabbit/rare-rabbit-men-black-perforations-leather-brogues/14638312/buy',\n",
       " 'https://www.myntra.com/sports-shoes/under-armour/under-armour-men-black-phade-running-shoes/14649108/buy',\n",
       " 'https://www.myntra.com/sports-shoes/under-armour/under-armour-men-black-charged-rogue-25-reflect-running-shoes/14649122/buy',\n",
       " 'https://www.myntra.com/sports-shoes/tarmak-by-decathlon/tarmak-by-decathlon-men-black-mesh-high-top-basketball-shoes/12992610/buy',\n",
       " 'https://www.myntra.com/sports-shoes/under-armour/under-armour-men-black-charged-assert-8-marble-running-shoes/14649054/buy',\n",
       " 'https://www.myntra.com/sports-shoes/puma-hoops/puma-hoops-unisex-black-clyde-all-pro-basketball-shoes/13554332/buy',\n",
       " 'https://www.myntra.com/sports-shoes/under-armour/under-armour-men-black-charged-commit-3-training-shoes/14649128/buy',\n",
       " 'https://www.myntra.com/sports-shoes/under-armour/under-armour-unisex-black--grey-colourblocked-gs-sc-3-zero-iv-basketball-shoes/12247208/buy',\n",
       " 'https://www.myntra.com/sports-shoes/under-armour/under-armour-women-black-woven-design-charged-bandit-6-running-shoes/14649110/buy',\n",
       " 'https://www.myntra.com/sports-shoes/puma/puma-women-black-velocity-nitro-running-shoes/13484140/buy',\n",
       " 'https://www.myntra.com/casual-shoes/hush-puppies/hush-puppies-men-black-leather-slip-on-sneakers/12698526/buy',\n",
       " 'https://www.myntra.com/casual-shoes/hush-puppies/hush-puppies-men-black-leather-slip-on-sneakers/12698534/buy',\n",
       " 'https://www.myntra.com/sports-shoes/puma/puma-men-black-softride-rift-running-shoes/12699240/buy',\n",
       " 'https://www.myntra.com/formal-shoes/hush-puppies/hush-puppies-men-black-solid-leather-formal-oxfords/12435220/buy',\n",
       " 'https://www.myntra.com/sports-shoes/forclaz-by-decathlon/forclaz-by-decathlon-men-grey-trekking-100-waterproof-mid-top-trekking-boots/14321736/buy',\n",
       " 'https://www.myntra.com/sports-shoes/under-armour/under-armour-women-black-woven-charged-rogue-25-colorshift-running-shoes/14649130/buy',\n",
       " 'https://www.myntra.com/sports-shoes/adidas/adidas-women-black-supernova-running-shoes/12708514/buy',\n",
       " 'https://www.myntra.com/formal-shoes/hush-puppies/hush-puppies-men-black-solid-leather-formal-slip-ons/12452162/buy',\n",
       " 'https://www.myntra.com/sports-shoes/reebok/reebok-men-black-woven-design-forever-floatride-energy-2-running-shoes/12033700/buy',\n",
       " 'https://www.myntra.com/formal-shoes/hush-puppies/hush-puppies-men-black-solid-formal-leather-monk-shoes/13065460/buy',\n",
       " 'https://www.myntra.com/sports-shoes/puma/puma-women-black-eternity-nitro-running-shoes/13484354/buy',\n",
       " 'https://www.myntra.com/casual-shoes/geox/geox-men-black--grey-woven-design-sneakers/14533178/buy',\n",
       " 'https://www.myntra.com/heels/metro/metro-women-black-solid-high-top-heeled-boots/12707596/buy',\n",
       " 'https://www.myntra.com/sports-shoes/puma/puma-women-black-deviate-nitro-running-shoes/13484166/buy',\n",
       " 'https://www.myntra.com/sports-shoes/quechua-by-decathlon/quechua-by-decathlon-men-black-leather-warm-snow-hiking-boots/12983992/buy',\n",
       " 'https://www.myntra.com/casual-shoes/geox/geox-women-black-leather-horsebit-loafers/14532934/buy',\n",
       " 'https://www.myntra.com/casual-shoes/hush-puppies/hush-puppies-men-black-leather-derbys/13065422/buy',\n",
       " 'https://www.myntra.com/sports-shoes/quechua-by-decathlon/quechua-by-decathlon-women-black-waterproof-country-walking-shoes-nh500-mid-wp/14321664/buy',\n",
       " 'https://www.myntra.com/casual-shoes/under-armour/under-armour-men-black-hovr-sonic-strt-tech-woven-design-sneakers/14648434/buy',\n",
       " 'https://www.myntra.com/sports-shoes/quechua-by-decathlon/quechua-by-decathlon-women-black-leather-mid-top-waterproof-hiking-shoes/13177070/buy',\n",
       " 'https://www.myntra.com/casual-shoes/hm/hm-mens-black-leather-boots/14408000/buy',\n",
       " 'https://www.myntra.com/casual-shoes/bugatti/bugatti-men-black-sneakers/13782356/buy',\n",
       " 'https://www.myntra.com/sports-shoes/puma/puma-men-black-leader-vt-tech-running-shoes/12282038/buy',\n",
       " 'https://www.myntra.com/sports-shoes/fila/fila-men-black-running-shoes/11984696/buy',\n",
       " 'https://www.myntra.com/casual-shoes/puma-motorsport/puma-motorsport-unisex-grey-colourblocked-pl-mirage-sneakers/13554544/buy',\n",
       " 'https://www.myntra.com/sports-shoes/forclaz-by-decathlon/forclaz-by-decathlon-men-black-and-grey-waterproof-hiking-shoes/12992524/buy',\n",
       " 'https://www.myntra.com/formal-shoes/hush-puppies/hush-puppies-men-black-solid-leather-formal-slip-ons/12435690/buy',\n",
       " 'https://www.myntra.com/formal-shoes/hush-puppies/hush-puppies-men-black-solid-formal-derbys-/13123142/buy',\n",
       " 'https://www.myntra.com/formal-shoes/hush-puppies/hush-puppies-men-black-solid-formal-leather-oxfords/13065452/buy',\n",
       " 'https://www.myntra.com/casual-shoes/geox/geox-men-black-textured-leather-driving-shoes/14533232/buy']"
      ]
     },
     "execution_count": 193,
     "metadata": {},
     "output_type": "execute_result"
    }
   ],
   "source": [
    "shoe_urls=[]\n",
    "url3=driver.find_elements_by_xpath(\"//ul[@class='results-base']//a\")\n",
    "for i in url3:\n",
    "    shoe_urls.append(i.get_attribute('href'))\n",
    "shoe_urls "
   ]
  },
  {
   "cell_type": "code",
   "execution_count": 194,
   "metadata": {},
   "outputs": [
    {
     "data": {
      "text/plain": [
       "['Nike',\n",
       " 'Puma',\n",
       " 'Nike',\n",
       " 'UNDER ARMOUR',\n",
       " 'Nike',\n",
       " 'ADIDAS',\n",
       " 'Lacoste',\n",
       " 'UNDER ARMOUR',\n",
       " 'UNDER ARMOUR',\n",
       " 'Puma',\n",
       " 'RARE RABBIT',\n",
       " 'UNDER ARMOUR',\n",
       " 'UNDER ARMOUR',\n",
       " 'TARMAK By Decathlon',\n",
       " 'UNDER ARMOUR',\n",
       " 'PUMA Hoops',\n",
       " 'UNDER ARMOUR',\n",
       " 'UNDER ARMOUR',\n",
       " 'UNDER ARMOUR',\n",
       " 'Puma',\n",
       " 'Hush Puppies',\n",
       " 'Hush Puppies',\n",
       " 'Puma',\n",
       " 'Hush Puppies',\n",
       " 'FORCLAZ By Decathlon',\n",
       " 'UNDER ARMOUR',\n",
       " 'ADIDAS',\n",
       " 'Hush Puppies',\n",
       " 'Reebok',\n",
       " 'Hush Puppies',\n",
       " 'Puma',\n",
       " 'Geox',\n",
       " 'Metro',\n",
       " 'Puma',\n",
       " 'Quechua By Decathlon',\n",
       " 'Geox',\n",
       " 'Hush Puppies',\n",
       " 'Quechua By Decathlon',\n",
       " 'UNDER ARMOUR',\n",
       " 'Quechua By Decathlon',\n",
       " 'H&M',\n",
       " 'Bugatti',\n",
       " 'Puma',\n",
       " 'FILA',\n",
       " 'PUMA Motorsport',\n",
       " 'FORCLAZ By Decathlon',\n",
       " 'Hush Puppies',\n",
       " 'Hush Puppies',\n",
       " 'Hush Puppies',\n",
       " 'Geox']"
      ]
     },
     "execution_count": 194,
     "metadata": {},
     "output_type": "execute_result"
    }
   ],
   "source": [
    "Shoe_brand=[]\n",
    "for i in shoe_urls:\n",
    "    driver.get(i)\n",
    "    try:\n",
    "        sb=driver.find_element_by_xpath(\"//div[@class='pdp-price-info']//h1\")\n",
    "        Shoe_brand.append(sb.text)\n",
    "    except:\n",
    "        pass\n",
    "Shoe_brand"
   ]
  },
  {
   "cell_type": "code",
   "execution_count": 195,
   "metadata": {},
   "outputs": [
    {
     "data": {
      "text/plain": [
       "50"
      ]
     },
     "execution_count": 195,
     "metadata": {},
     "output_type": "execute_result"
    }
   ],
   "source": [
    "len(Shoe_brand)"
   ]
  },
  {
   "cell_type": "code",
   "execution_count": 196,
   "metadata": {},
   "outputs": [
    {
     "data": {
      "text/plain": [
       "['Men Black Renew Retaliation TR 3 Gym Shoes',\n",
       " 'Men Black Cell Fraction Fade Running Shoes',\n",
       " \"Men Black & White Blazer Low '77 Vintage Leather Sneakers\",\n",
       " 'Unisex Black Project Rock Recruit BSR Woven Design Training Shoes',\n",
       " 'Men Black Crater Remixa Sneakers',\n",
       " 'Women Black Solid Response SR Running Shoes',\n",
       " 'Men Black Slip-On Sneakers',\n",
       " 'Men Black Woven Design Charged Pursuit 2 SE Running Shoes',\n",
       " 'Men Black Charged Pursuit 2 SE Running Shoes',\n",
       " 'Men Black Hybrid Fuego Running Shoes',\n",
       " 'Men Black Perforations Leather Brogues',\n",
       " 'Men Black Phade Running Shoes',\n",
       " 'Men Black Charged Rogue 2.5 Reflect Running Shoes',\n",
       " 'Men Black Mesh High-Top Basketball Shoes',\n",
       " 'Men Black Charged Assert 8 Marble Running Shoes',\n",
       " 'Unisex Black Clyde All-Pro Basketball Shoes',\n",
       " 'Men Black Charged Commit 3 Training Shoes',\n",
       " 'Unisex Black & Grey Colourblocked GS SC 3 Zero IV Basketball Shoes',\n",
       " 'Women Black Woven Design Charged Bandit 6 Running Shoes',\n",
       " 'Women Black Velocity Nitro Running Shoes',\n",
       " 'Men Black Leather Slip-On Sneakers',\n",
       " 'Men Black Leather Slip-On Sneakers',\n",
       " 'Men Black SOFTRIDE Rift Running Shoes',\n",
       " 'Men Black Solid Leather Formal Oxfords',\n",
       " 'Men Grey TREKKING 100 Waterproof Mid-Top Trekking Boots',\n",
       " 'Women Black Woven Charged Rogue 2.5 Colorshift Running Shoes',\n",
       " 'Women Black SUPERNOVA Running Shoes',\n",
       " 'Men Black Solid Leather Formal Slip-Ons',\n",
       " 'Men Black Woven Design Forever Floatride Energy 2 Running Shoes',\n",
       " 'Men Black Solid Formal Leather Monk Shoes',\n",
       " 'Women Black Eternity Nitro Running Shoes',\n",
       " 'Men Black & Grey Woven Design Sneakers',\n",
       " 'Women Black Solid High-Top Heeled Boots',\n",
       " 'Women Black Deviate Nitro Running Shoes',\n",
       " 'Men Black Leather Warm Snow Hiking Boots',\n",
       " 'Women Black Leather Horsebit Loafers',\n",
       " 'Men Black Leather Derbys',\n",
       " 'Women Black Waterproof Country Walking Shoes NH500 Mid WP',\n",
       " 'Men Black HOVR Sonic STRT Tech Woven Design Sneakers',\n",
       " 'Women Black Leather Mid-Top Waterproof Hiking Shoes',\n",
       " 'Mens Black Leather boots',\n",
       " 'Men Black Sneakers',\n",
       " 'Men Black Leader VT Tech Running Shoes',\n",
       " 'Men Black Running Shoes',\n",
       " 'Puma Motorsport Unisex Grey Colourblocked PL Mirage Sneakers',\n",
       " 'Men Black and Grey Waterproof Hiking Shoes',\n",
       " 'Men Black Solid Leather Formal Slip-Ons',\n",
       " 'Men Black Solid Formal Derbys',\n",
       " 'Men Black Solid Formal Leather Oxfords',\n",
       " 'Men Black Textured Leather Driving Shoes']"
      ]
     },
     "execution_count": 196,
     "metadata": {},
     "output_type": "execute_result"
    }
   ],
   "source": [
    "Shoe_des=[]\n",
    "for i in shoe_urls:\n",
    "    driver.get(i)\n",
    "    try:\n",
    "        sd=driver.find_element_by_xpath(\"//div[@class='pdp-description-container']//h1[2]\")\n",
    "        Shoe_des.append(sd.text)\n",
    "    except:\n",
    "        Shoe_des.append(\"--\")\n",
    "Shoe_des"
   ]
  },
  {
   "cell_type": "code",
   "execution_count": 197,
   "metadata": {},
   "outputs": [
    {
     "data": {
      "text/plain": [
       "50"
      ]
     },
     "execution_count": 197,
     "metadata": {},
     "output_type": "execute_result"
    }
   ],
   "source": [
    "len(Shoe_des)"
   ]
  },
  {
   "cell_type": "code",
   "execution_count": 198,
   "metadata": {},
   "outputs": [
    {
     "data": {
      "text/plain": [
       "['Rs. 5995',\n",
       " 'Rs. 6999',\n",
       " 'Rs. 7195',\n",
       " 'Rs. 9999',\n",
       " 'Rs. 5495',\n",
       " 'Rs. 5319',\n",
       " 'Rs. 5525',\n",
       " 'Rs. 6999',\n",
       " 'Rs. 6999',\n",
       " 'Rs. 6999',\n",
       " 'Rs. 6999',\n",
       " 'Rs. 6499',\n",
       " 'Rs. 7999',\n",
       " 'Rs. 5499',\n",
       " 'Rs. 6999',\n",
       " 'Rs. 6599',\n",
       " 'Rs. 7999',\n",
       " 'Rs. 7499',\n",
       " 'Rs. 8999',\n",
       " 'Rs. 6599',\n",
       " 'Rs. 6299',\n",
       " 'Rs. 6999',\n",
       " 'Rs. 6499',\n",
       " 'Rs. 5399',\n",
       " 'Rs. 6999',\n",
       " 'Rs. 7999',\n",
       " 'Rs. 6999',\n",
       " 'Rs. 8099',\n",
       " 'Rs. 5999',\n",
       " 'Rs. 5399',\n",
       " 'Rs. 7799',\n",
       " 'Rs. 8249',\n",
       " 'Rs. 5490',\n",
       " 'Rs. 9749',\n",
       " 'Rs. 9999',\n",
       " 'Rs. 5999',\n",
       " 'Rs. 5599',\n",
       " 'Rs. 5669',\n",
       " 'Rs. 9999',\n",
       " 'Rs. 5499',\n",
       " 'Rs. 5999',\n",
       " 'Rs. 6399',\n",
       " 'Rs. 5999',\n",
       " 'Rs. 8499',\n",
       " 'Rs. 5399',\n",
       " 'Rs. 5579',\n",
       " 'Rs. 8999',\n",
       " 'Rs. 8999',\n",
       " 'Rs. 5399',\n",
       " 'Rs. 9999']"
      ]
     },
     "execution_count": 198,
     "metadata": {},
     "output_type": "execute_result"
    }
   ],
   "source": [
    "Shoe_price=[]\n",
    "for i in shoe_urls:\n",
    "    driver.get(i)\n",
    "    try:\n",
    "        sp=driver.find_element_by_xpath(\"//span[@class='pdp-price']\")\n",
    "        Shoe_price.append(sp.text)\n",
    "    except:\n",
    "        Shoe_price.append(\"--\")\n",
    "        \n",
    "Shoe_price        "
   ]
  },
  {
   "cell_type": "code",
   "execution_count": 199,
   "metadata": {},
   "outputs": [
    {
     "data": {
      "text/plain": [
       "50"
      ]
     },
     "execution_count": 199,
     "metadata": {},
     "output_type": "execute_result"
    }
   ],
   "source": [
    "len(Shoe_price)"
   ]
  },
  {
   "cell_type": "code",
   "execution_count": 203,
   "metadata": {},
   "outputs": [],
   "source": [
    "driver=webdriver.Chrome(r\"chromedriver.exe\")\n",
    "url='https://www.myntra.com/shoes'\n",
    "driver.get(url)"
   ]
  },
  {
   "cell_type": "code",
   "execution_count": 204,
   "metadata": {},
   "outputs": [],
   "source": [
    "filter_price=driver.find_element_by_xpath(\"//label[text()='Rs. 5319 to Rs. 10479']\")\n",
    "#search_btn\n",
    "filter_price.click()"
   ]
  },
  {
   "cell_type": "code",
   "execution_count": 205,
   "metadata": {},
   "outputs": [],
   "source": [
    "filter_col=driver.find_element_by_xpath(\"//label[text()='Black']\")\n",
    "#search_btn\n",
    "filter_col.click()"
   ]
  },
  {
   "cell_type": "code",
   "execution_count": 206,
   "metadata": {},
   "outputs": [],
   "source": [
    "next_page=driver.find_element_by_xpath(\"//li[@class='pagination-next']\")\n",
    "#search_btn\n",
    "next_page.click()"
   ]
  },
  {
   "cell_type": "code",
   "execution_count": 207,
   "metadata": {},
   "outputs": [
    {
     "data": {
      "text/plain": [
       "['https://www.myntra.com/formal-shoes/hush-puppies/hush-puppies-men-black-solid-formal-leather-oxfords/13065452/buy',\n",
       " 'https://www.myntra.com/casual-shoes/geox/geox-men-black-textured-leather-driving-shoes/14533232/buy',\n",
       " 'https://www.myntra.com/casual-shoes/geox/geox-men-black-leather-driving-shoes/11708730/buy',\n",
       " 'https://www.myntra.com/casual-shoes/cole-haan/cole-haan-men-black-generation-zerogrand-stitchlite-sneakers/11052214/buy',\n",
       " 'https://www.myntra.com/casual-shoes/under-armour/under-armour-men-black-victory-woven-design-sneakers/14647990/buy',\n",
       " 'https://www.myntra.com/casual-shoes/geox/geox-men-black-solid-leather-slip-on-sneakers/11107550/buy',\n",
       " 'https://www.myntra.com/casual-shoes/puma/puma-unisex-black--mint-green-colourblocked-rs-connect-splash-trainer-sneakers/14826024/buy',\n",
       " 'https://www.myntra.com/casual-shoes/jfontini/jfontini-men-black-loafers/13343594/buy',\n",
       " 'https://www.myntra.com/casual-shoes/cole-haan/cole-haan-men-black-leather-grandpro-tennis-sneakers/11578284/buy',\n",
       " 'https://www.myntra.com/formal-shoes/davinchi/davinchi-men-black-solid-formal-leather-slip-on-shoes/13376884/buy',\n",
       " 'https://www.myntra.com/casual-shoes/jfontini/jfontini-men-black-leather-loafers/12681352/buy',\n",
       " 'https://www.myntra.com/formal-shoes/bugatti/bugatti-men-black-textured-leather-formal-loafers/13782932/buy',\n",
       " 'https://www.myntra.com/formal-shoes/louis-philippe/louis-philippe-men-black-textured-leather-formal-derbys/11722390/buy',\n",
       " 'https://www.myntra.com/casual-shoes/bugatti/bugatti-men-black-perforated-slip-on-sneakers/13782408/buy',\n",
       " 'https://www.myntra.com/casual-shoes/hush-puppies/hush-puppies-men-black-colourblocked-driving-shoes/12698504/buy',\n",
       " 'https://www.myntra.com/formal-shoes/rare-rabbit/rare-rabbit-men-black-textured-leather-formal-derbys/14618152/buy',\n",
       " 'https://www.myntra.com/sports-shoes/xtep/xtep-women-black-air-mega-energy-ring-running-shoes/12678986/buy',\n",
       " 'https://www.myntra.com/heels/bugatti/bugatti-women-black-striped-mules/14008024/buy',\n",
       " 'https://www.myntra.com/formal-shoes/rare-rabbit/rare-rabbit-men-black-leather-formal-slip-ons/14618150/buy',\n",
       " 'https://www.myntra.com/casual-shoes/geox/geox-women-black-leather-horsebit-loafers/14532934/buy',\n",
       " 'https://www.myntra.com/formal-shoes/hush-puppies/hush-puppies-men-black-solid-leather-formal-derbys/12435696/buy',\n",
       " 'https://www.myntra.com/sports-shoes/xtep/xtep-women-black--white-running-shoes/13472550/buy',\n",
       " 'https://www.myntra.com/heels/saint-g/saint-g-black-leather-block-sandals/14500492/buy',\n",
       " 'https://www.myntra.com/sports-shoes/kiprun-by-decathlon/kiprun-by-decathlon-women-black-kiprun-long-2-running-shoes/13982182/buy',\n",
       " 'https://www.myntra.com/formal-shoes/geox/geox-men-black-leather-formal-monks/10029399/buy',\n",
       " 'https://www.myntra.com/heels/saint-g/saint-g-women-black-solid-leather-heeled-boots/12310282/buy',\n",
       " 'https://www.myntra.com/casual-shoes/rare-rabbit/rare-rabbit-men-black-colourblocked-leather-derbys/14638310/buy',\n",
       " 'https://www.myntra.com/sports-shoes/asics/asics-women-black-gel-lyte-iii-og-running-shoes/14389578/buy',\n",
       " 'https://www.myntra.com/formal-shoes/jfontini/jfontini-men-black-textured-leather-formal-loafers/12682170/buy',\n",
       " 'https://www.myntra.com/sports-shoes/under-armour/under-armour-women-black-woven-design-charged-vantage-colorshift-running-shoes/14649018/buy',\n",
       " 'https://www.myntra.com/sports-shoes/under-armour/under-armour-women-black-charged-assert-8-running-shoes/14649216/buy',\n",
       " 'https://www.myntra.com/sports-shoes/under-armour/under-armour-women-black-woven-design-charged-impulse-shft-running-shoes/14649022/buy',\n",
       " 'https://www.myntra.com/formal-shoes/hush-puppies/hush-puppies-men-black-solid-formal-leather-derbys/13065426/buy',\n",
       " 'https://www.myntra.com/formal-shoes/kenneth-cole/kenneth-cole-men-black-solid-leather-formal-derbys/12111710/buy',\n",
       " 'https://www.myntra.com/formal-shoes/blackberrys/blackberrys-men-black-glossy-textured-leather-derbys/2442694/buy',\n",
       " 'https://www.myntra.com/heels/saint-g/saint-g-women-black-solid-leather-heeled-boots/11216718/buy',\n",
       " 'https://www.myntra.com/formal-shoes/hush-puppies/hush-puppies-men-black-solid-formal-leather-brogues/13065456/buy',\n",
       " 'https://www.myntra.com/casual-shoes/bugatti/bugatti-women-black--silver-toned-mid-top-sneakers/13784156/buy',\n",
       " 'https://www.myntra.com/flats/birkenstock/birkenstock-women-black--grey-gizeh-regular-width-flats/13097880/buy',\n",
       " 'https://www.myntra.com/casual-shoes/geox/geox-men-black-perforated-slip-on-sneakers/14533172/buy',\n",
       " 'https://www.myntra.com/casual-shoes/geox/geox-men-black--yellow-printed-slip-on-sneakers/14533240/buy',\n",
       " 'https://www.myntra.com/casual-shoes/under-armour/under-armour-women-black-woven-design-charged-breathe-oil-slk-sportstyle-shoes/12247158/buy',\n",
       " 'https://www.myntra.com/casual-shoes/rare-rabbit/rare-rabbit-men-black-leather-flat-boots/14937476/buy',\n",
       " 'https://www.myntra.com/casual-shoes/geox/geox-men-black-sneakers/14533234/buy',\n",
       " 'https://www.myntra.com/sports-shoes/under-armour/under-armour-women-black-woven-design-charged-rogue-2-running-shoes/12247086/buy',\n",
       " 'https://www.myntra.com/formal-shoes/kenneth-cole/kenneth-cole-men-black-solid-leather-formal-derbys/12140870/buy',\n",
       " 'https://www.myntra.com/formal-shoes/louis-philippe/louis-philippe-men-black-leather-formal-slip-ons/10628174/buy',\n",
       " 'https://www.myntra.com/casual-shoes/geox/geox-men-black-leather-driving-shoes/10029207/buy',\n",
       " 'https://www.myntra.com/sports-shoes/xtep/xtep-men-black-textile-running-shoes/14003076/buy',\n",
       " 'https://www.myntra.com/casual-shoes/heel--buckle-london/heel--buckle-london-men-black-solid-leather-boat-shoes/10878228/buy']"
      ]
     },
     "execution_count": 207,
     "metadata": {},
     "output_type": "execute_result"
    }
   ],
   "source": [
    "shoe_urls2=[]\n",
    "url4=driver.find_elements_by_xpath(\"//ul[@class='results-base']//a\")\n",
    "for i in url4:\n",
    "    shoe_urls2.append(i.get_attribute('href'))\n",
    "shoe_urls2"
   ]
  },
  {
   "cell_type": "code",
   "execution_count": 208,
   "metadata": {},
   "outputs": [
    {
     "data": {
      "text/plain": [
       "['Nike',\n",
       " 'Puma',\n",
       " 'Nike',\n",
       " 'UNDER ARMOUR',\n",
       " 'Nike',\n",
       " 'ADIDAS',\n",
       " 'Lacoste',\n",
       " 'UNDER ARMOUR',\n",
       " 'UNDER ARMOUR',\n",
       " 'Puma',\n",
       " 'RARE RABBIT',\n",
       " 'UNDER ARMOUR',\n",
       " 'UNDER ARMOUR',\n",
       " 'TARMAK By Decathlon',\n",
       " 'UNDER ARMOUR',\n",
       " 'PUMA Hoops',\n",
       " 'UNDER ARMOUR',\n",
       " 'UNDER ARMOUR',\n",
       " 'UNDER ARMOUR',\n",
       " 'Puma',\n",
       " 'Hush Puppies',\n",
       " 'Hush Puppies',\n",
       " 'Puma',\n",
       " 'Hush Puppies',\n",
       " 'FORCLAZ By Decathlon',\n",
       " 'UNDER ARMOUR',\n",
       " 'ADIDAS',\n",
       " 'Hush Puppies',\n",
       " 'Reebok',\n",
       " 'Hush Puppies',\n",
       " 'Puma',\n",
       " 'Geox',\n",
       " 'Metro',\n",
       " 'Puma',\n",
       " 'Quechua By Decathlon',\n",
       " 'Geox',\n",
       " 'Hush Puppies',\n",
       " 'Quechua By Decathlon',\n",
       " 'UNDER ARMOUR',\n",
       " 'Quechua By Decathlon',\n",
       " 'H&M',\n",
       " 'Bugatti',\n",
       " 'Puma',\n",
       " 'FILA',\n",
       " 'PUMA Motorsport',\n",
       " 'FORCLAZ By Decathlon',\n",
       " 'Hush Puppies',\n",
       " 'Hush Puppies',\n",
       " 'Hush Puppies',\n",
       " 'Geox',\n",
       " 'Hush Puppies',\n",
       " 'Geox',\n",
       " 'Geox',\n",
       " 'Cole Haan',\n",
       " 'UNDER ARMOUR',\n",
       " 'Geox',\n",
       " 'Puma',\n",
       " 'J.FONTINI',\n",
       " 'Cole Haan',\n",
       " 'DAVINCHI',\n",
       " 'J.FONTINI',\n",
       " 'Bugatti',\n",
       " 'Louis Philippe',\n",
       " 'Bugatti',\n",
       " 'Hush Puppies',\n",
       " 'RARE RABBIT',\n",
       " 'Xtep',\n",
       " 'Bugatti',\n",
       " 'RARE RABBIT',\n",
       " 'Geox',\n",
       " 'Hush Puppies',\n",
       " 'Xtep',\n",
       " 'Saint G',\n",
       " 'KIPRUN By Decathlon',\n",
       " 'Geox',\n",
       " 'Saint G',\n",
       " 'RARE RABBIT',\n",
       " 'ASICS',\n",
       " 'J.FONTINI',\n",
       " 'UNDER ARMOUR',\n",
       " 'UNDER ARMOUR',\n",
       " 'UNDER ARMOUR',\n",
       " 'Hush Puppies',\n",
       " 'Kenneth Cole',\n",
       " 'Blackberrys',\n",
       " 'Saint G',\n",
       " 'Hush Puppies',\n",
       " 'Bugatti',\n",
       " 'Birkenstock',\n",
       " 'Geox',\n",
       " 'Geox',\n",
       " 'UNDER ARMOUR',\n",
       " 'RARE RABBIT',\n",
       " 'Geox',\n",
       " 'UNDER ARMOUR',\n",
       " 'Kenneth Cole',\n",
       " 'Louis Philippe',\n",
       " 'Geox',\n",
       " 'Xtep',\n",
       " 'Heel & Buckle London']"
      ]
     },
     "execution_count": 208,
     "metadata": {},
     "output_type": "execute_result"
    }
   ],
   "source": [
    "for i in shoe_urls2:\n",
    "    driver.get(i)\n",
    "    try:\n",
    "        sb1=driver.find_element_by_xpath(\"//div[@class='pdp-price-info']//h1\")\n",
    "        Shoe_brand.append(sb1.text)\n",
    "    except:\n",
    "        pass\n",
    "Shoe_brand"
   ]
  },
  {
   "cell_type": "code",
   "execution_count": 209,
   "metadata": {},
   "outputs": [
    {
     "data": {
      "text/plain": [
       "100"
      ]
     },
     "execution_count": 209,
     "metadata": {},
     "output_type": "execute_result"
    }
   ],
   "source": [
    "len(Shoe_brand)"
   ]
  },
  {
   "cell_type": "code",
   "execution_count": 210,
   "metadata": {},
   "outputs": [
    {
     "data": {
      "text/plain": [
       "['Men Black Renew Retaliation TR 3 Gym Shoes',\n",
       " 'Men Black Cell Fraction Fade Running Shoes',\n",
       " \"Men Black & White Blazer Low '77 Vintage Leather Sneakers\",\n",
       " 'Unisex Black Project Rock Recruit BSR Woven Design Training Shoes',\n",
       " 'Men Black Crater Remixa Sneakers',\n",
       " 'Women Black Solid Response SR Running Shoes',\n",
       " 'Men Black Slip-On Sneakers',\n",
       " 'Men Black Woven Design Charged Pursuit 2 SE Running Shoes',\n",
       " 'Men Black Charged Pursuit 2 SE Running Shoes',\n",
       " 'Men Black Hybrid Fuego Running Shoes',\n",
       " 'Men Black Perforations Leather Brogues',\n",
       " 'Men Black Phade Running Shoes',\n",
       " 'Men Black Charged Rogue 2.5 Reflect Running Shoes',\n",
       " 'Men Black Mesh High-Top Basketball Shoes',\n",
       " 'Men Black Charged Assert 8 Marble Running Shoes',\n",
       " 'Unisex Black Clyde All-Pro Basketball Shoes',\n",
       " 'Men Black Charged Commit 3 Training Shoes',\n",
       " 'Unisex Black & Grey Colourblocked GS SC 3 Zero IV Basketball Shoes',\n",
       " 'Women Black Woven Design Charged Bandit 6 Running Shoes',\n",
       " 'Women Black Velocity Nitro Running Shoes',\n",
       " 'Men Black Leather Slip-On Sneakers',\n",
       " 'Men Black Leather Slip-On Sneakers',\n",
       " 'Men Black SOFTRIDE Rift Running Shoes',\n",
       " 'Men Black Solid Leather Formal Oxfords',\n",
       " 'Men Grey TREKKING 100 Waterproof Mid-Top Trekking Boots',\n",
       " 'Women Black Woven Charged Rogue 2.5 Colorshift Running Shoes',\n",
       " 'Women Black SUPERNOVA Running Shoes',\n",
       " 'Men Black Solid Leather Formal Slip-Ons',\n",
       " 'Men Black Woven Design Forever Floatride Energy 2 Running Shoes',\n",
       " 'Men Black Solid Formal Leather Monk Shoes',\n",
       " 'Women Black Eternity Nitro Running Shoes',\n",
       " 'Men Black & Grey Woven Design Sneakers',\n",
       " 'Women Black Solid High-Top Heeled Boots',\n",
       " 'Women Black Deviate Nitro Running Shoes',\n",
       " 'Men Black Leather Warm Snow Hiking Boots',\n",
       " 'Women Black Leather Horsebit Loafers',\n",
       " 'Men Black Leather Derbys',\n",
       " 'Women Black Waterproof Country Walking Shoes NH500 Mid WP',\n",
       " 'Men Black HOVR Sonic STRT Tech Woven Design Sneakers',\n",
       " 'Women Black Leather Mid-Top Waterproof Hiking Shoes',\n",
       " 'Mens Black Leather boots',\n",
       " 'Men Black Sneakers',\n",
       " 'Men Black Leader VT Tech Running Shoes',\n",
       " 'Men Black Running Shoes',\n",
       " 'Puma Motorsport Unisex Grey Colourblocked PL Mirage Sneakers',\n",
       " 'Men Black and Grey Waterproof Hiking Shoes',\n",
       " 'Men Black Solid Leather Formal Slip-Ons',\n",
       " 'Men Black Solid Formal Derbys',\n",
       " 'Men Black Solid Formal Leather Oxfords',\n",
       " 'Men Black Textured Leather Driving Shoes',\n",
       " 'Men Black Solid Formal Leather Oxfords',\n",
       " 'Men Black Textured Leather Driving Shoes',\n",
       " 'Men Black Leather Driving Shoes',\n",
       " 'Men Black Generation ZeroGrand Stitchlite Sneakers',\n",
       " 'Men Black Victory Woven Design Sneakers',\n",
       " 'Men Black Solid Leather Slip-On Sneakers',\n",
       " 'Unisex Black & Mint Green Colourblocked RS Connect Splash Trainer Sneakers',\n",
       " 'Men Black Loafers',\n",
       " 'Men Black Leather GrandPro Tennis Sneakers',\n",
       " 'Men Black Solid Formal Leather Slip-On Shoes',\n",
       " 'Men Black Leather Loafers',\n",
       " 'Men Black Textured Leather Formal Loafers',\n",
       " 'Men Black Textured Leather Formal Derbys',\n",
       " 'Men Black Perforated Slip-On Sneakers',\n",
       " 'Men Black Colourblocked Driving Shoes',\n",
       " 'Men Black Textured Leather Formal Derbys',\n",
       " 'Women Black AIR MEGA Energy Ring Running Shoes',\n",
       " 'Women Black Striped Mules',\n",
       " 'Men Black Leather Formal Slip-Ons',\n",
       " 'Women Black Leather Horsebit Loafers',\n",
       " 'Men Black Solid Leather Formal Derbys',\n",
       " 'Women Black & White Running Shoes',\n",
       " 'Black Leather Block Sandals',\n",
       " 'Women Black Kiprun Long 2 Running Shoes',\n",
       " 'Men Black Leather Formal Monks',\n",
       " 'Women Black Solid Leather Heeled Boots',\n",
       " 'Men Black Colourblocked Leather Derbys',\n",
       " 'Women Black GEL-Lyte III OG Running Shoes',\n",
       " 'Men Black Textured Leather Formal Loafers',\n",
       " 'Women Black Woven Design Charged Vantage Colorshift Running Shoes',\n",
       " 'Women Black Charged Assert 8 Running Shoes',\n",
       " 'Women Black Woven Design Charged Impulse Shft Running Shoes',\n",
       " 'Men Black Solid Formal Leather Derbys',\n",
       " 'Men Black Solid Leather Formal Derbys',\n",
       " 'Men Black Glossy Textured Leather Derbys',\n",
       " 'Women Black Solid Leather Heeled Boots',\n",
       " 'Men Black Solid Formal Leather Brogues',\n",
       " 'Women Black & Silver-Toned Mid-Top Sneakers',\n",
       " 'Women Black & Grey Gizeh Regular Width Flats',\n",
       " 'Men Black Perforated Slip On Sneakers',\n",
       " 'Men Black & Yellow Printed Slip-On Sneakers',\n",
       " 'Women Black Woven Design Charged Breathe OIL SLK Sportstyle Shoes',\n",
       " 'Men Black Leather Flat Boots',\n",
       " 'Men Black Sneakers',\n",
       " 'Women Black Woven Design Charged Rogue 2 Running Shoes',\n",
       " 'Men Black Solid Leather Formal Derbys',\n",
       " 'Men Black Leather Formal Slip-Ons',\n",
       " 'Men Black Leather Driving Shoes',\n",
       " 'Men Black Textile Running Shoes',\n",
       " 'Men Black Solid Leather Boat Shoes']"
      ]
     },
     "execution_count": 210,
     "metadata": {},
     "output_type": "execute_result"
    }
   ],
   "source": [
    "\n",
    "for i in shoe_urls2:\n",
    "    driver.get(i)\n",
    "    try:\n",
    "        sd1=driver.find_element_by_xpath(\"//div[@class='pdp-description-container']//h1[2]\")\n",
    "        Shoe_des.append(sd1.text)\n",
    "    except:\n",
    "        Shoe_des.append(\"--\")\n",
    "Shoe_des"
   ]
  },
  {
   "cell_type": "code",
   "execution_count": 211,
   "metadata": {},
   "outputs": [
    {
     "data": {
      "text/plain": [
       "100"
      ]
     },
     "execution_count": 211,
     "metadata": {},
     "output_type": "execute_result"
    }
   ],
   "source": [
    "len(Shoe_des)"
   ]
  },
  {
   "cell_type": "code",
   "execution_count": 212,
   "metadata": {},
   "outputs": [
    {
     "data": {
      "text/plain": [
       "['Rs. 5995',\n",
       " 'Rs. 6999',\n",
       " 'Rs. 7195',\n",
       " 'Rs. 9999',\n",
       " 'Rs. 5495',\n",
       " 'Rs. 5319',\n",
       " 'Rs. 5525',\n",
       " 'Rs. 6999',\n",
       " 'Rs. 6999',\n",
       " 'Rs. 6999',\n",
       " 'Rs. 6999',\n",
       " 'Rs. 6499',\n",
       " 'Rs. 7999',\n",
       " 'Rs. 5499',\n",
       " 'Rs. 6999',\n",
       " 'Rs. 6599',\n",
       " 'Rs. 7999',\n",
       " 'Rs. 7499',\n",
       " 'Rs. 8999',\n",
       " 'Rs. 6599',\n",
       " 'Rs. 6299',\n",
       " 'Rs. 6999',\n",
       " 'Rs. 6499',\n",
       " 'Rs. 5399',\n",
       " 'Rs. 6999',\n",
       " 'Rs. 7999',\n",
       " 'Rs. 6999',\n",
       " 'Rs. 8099',\n",
       " 'Rs. 5999',\n",
       " 'Rs. 5399',\n",
       " 'Rs. 7799',\n",
       " 'Rs. 8249',\n",
       " 'Rs. 5490',\n",
       " 'Rs. 9749',\n",
       " 'Rs. 9999',\n",
       " 'Rs. 5999',\n",
       " 'Rs. 5599',\n",
       " 'Rs. 5669',\n",
       " 'Rs. 9999',\n",
       " 'Rs. 5499',\n",
       " 'Rs. 5999',\n",
       " 'Rs. 6399',\n",
       " 'Rs. 5999',\n",
       " 'Rs. 8499',\n",
       " 'Rs. 5399',\n",
       " 'Rs. 5579',\n",
       " 'Rs. 8999',\n",
       " 'Rs. 8999',\n",
       " 'Rs. 5399',\n",
       " 'Rs. 9999',\n",
       " 'Rs. 5399',\n",
       " 'Rs. 9999',\n",
       " 'Rs. 9990',\n",
       " 'Rs. 9599',\n",
       " 'Rs. 5999',\n",
       " 'Rs. 9490',\n",
       " 'Rs. 8999',\n",
       " 'Rs. 8990',\n",
       " 'Rs. 8799',\n",
       " 'Rs. 6990',\n",
       " 'Rs. 7990',\n",
       " 'Rs. 6399',\n",
       " 'Rs. 5999',\n",
       " 'Rs. 6399',\n",
       " 'Rs. 6299',\n",
       " 'Rs. 6999',\n",
       " 'Rs. 5599',\n",
       " 'Rs. 5999',\n",
       " 'Rs. 9999',\n",
       " 'Rs. 5999',\n",
       " 'Rs. 8999',\n",
       " 'Rs. 5699',\n",
       " 'Rs. 10355',\n",
       " 'Rs. 7006',\n",
       " 'Rs. 7999',\n",
       " 'Rs. 9900',\n",
       " 'Rs. 6499',\n",
       " 'Rs. 6299',\n",
       " 'Rs. 6990',\n",
       " 'Rs. 7999',\n",
       " 'Rs. 6999',\n",
       " 'Rs. 7499',\n",
       " 'Rs. 6299',\n",
       " 'Rs. 6293',\n",
       " 'Rs. 5495',\n",
       " 'Rs. 6500',\n",
       " 'Rs. 5399',\n",
       " 'Rs. 5999',\n",
       " 'Rs. 5990',\n",
       " 'Rs. 6749',\n",
       " 'Rs. 8249',\n",
       " 'Rs. 6299',\n",
       " 'Rs. 9999',\n",
       " 'Rs. 7499',\n",
       " 'Rs. 5599',\n",
       " 'Rs. 6293',\n",
       " 'Rs. 6229',\n",
       " 'Rs. 9999',\n",
       " 'Rs. 5399',\n",
       " 'Rs. 6293']"
      ]
     },
     "execution_count": 212,
     "metadata": {},
     "output_type": "execute_result"
    }
   ],
   "source": [
    "\n",
    "for i in shoe_urls2:\n",
    "    driver.get(i)\n",
    "    try:\n",
    "        sp1=driver.find_element_by_xpath(\"//span[@class='pdp-price']\")\n",
    "        Shoe_price.append(sp1.text)\n",
    "    except:\n",
    "        Shoe_price.append(\"--\")\n",
    "        \n",
    "Shoe_price "
   ]
  },
  {
   "cell_type": "code",
   "execution_count": 213,
   "metadata": {},
   "outputs": [
    {
     "data": {
      "text/plain": [
       "100"
      ]
     },
     "execution_count": 213,
     "metadata": {},
     "output_type": "execute_result"
    }
   ],
   "source": [
    "len(Shoe_price )"
   ]
  },
  {
   "cell_type": "code",
   "execution_count": 214,
   "metadata": {},
   "outputs": [
    {
     "data": {
      "text/html": [
       "<div>\n",
       "<style scoped>\n",
       "    .dataframe tbody tr th:only-of-type {\n",
       "        vertical-align: middle;\n",
       "    }\n",
       "\n",
       "    .dataframe tbody tr th {\n",
       "        vertical-align: top;\n",
       "    }\n",
       "\n",
       "    .dataframe thead th {\n",
       "        text-align: right;\n",
       "    }\n",
       "</style>\n",
       "<table border=\"1\" class=\"dataframe\">\n",
       "  <thead>\n",
       "    <tr style=\"text-align: right;\">\n",
       "      <th></th>\n",
       "      <th>Brand</th>\n",
       "      <th>Description</th>\n",
       "      <th>Price</th>\n",
       "    </tr>\n",
       "  </thead>\n",
       "  <tbody>\n",
       "    <tr>\n",
       "      <th>0</th>\n",
       "      <td>Nike</td>\n",
       "      <td>Men Black Renew Retaliation TR 3 Gym Shoes</td>\n",
       "      <td>Rs. 5995</td>\n",
       "    </tr>\n",
       "    <tr>\n",
       "      <th>1</th>\n",
       "      <td>Puma</td>\n",
       "      <td>Men Black Cell Fraction Fade Running Shoes</td>\n",
       "      <td>Rs. 6999</td>\n",
       "    </tr>\n",
       "    <tr>\n",
       "      <th>2</th>\n",
       "      <td>Nike</td>\n",
       "      <td>Men Black &amp; White Blazer Low '77 Vintage Leath...</td>\n",
       "      <td>Rs. 7195</td>\n",
       "    </tr>\n",
       "    <tr>\n",
       "      <th>3</th>\n",
       "      <td>UNDER ARMOUR</td>\n",
       "      <td>Unisex Black Project Rock Recruit BSR Woven De...</td>\n",
       "      <td>Rs. 9999</td>\n",
       "    </tr>\n",
       "    <tr>\n",
       "      <th>4</th>\n",
       "      <td>Nike</td>\n",
       "      <td>Men Black Crater Remixa Sneakers</td>\n",
       "      <td>Rs. 5495</td>\n",
       "    </tr>\n",
       "    <tr>\n",
       "      <th>...</th>\n",
       "      <td>...</td>\n",
       "      <td>...</td>\n",
       "      <td>...</td>\n",
       "    </tr>\n",
       "    <tr>\n",
       "      <th>95</th>\n",
       "      <td>Kenneth Cole</td>\n",
       "      <td>Men Black Solid Leather Formal Derbys</td>\n",
       "      <td>Rs. 6293</td>\n",
       "    </tr>\n",
       "    <tr>\n",
       "      <th>96</th>\n",
       "      <td>Louis Philippe</td>\n",
       "      <td>Men Black Leather Formal Slip-Ons</td>\n",
       "      <td>Rs. 6229</td>\n",
       "    </tr>\n",
       "    <tr>\n",
       "      <th>97</th>\n",
       "      <td>Geox</td>\n",
       "      <td>Men Black Leather Driving Shoes</td>\n",
       "      <td>Rs. 9999</td>\n",
       "    </tr>\n",
       "    <tr>\n",
       "      <th>98</th>\n",
       "      <td>Xtep</td>\n",
       "      <td>Men Black Textile Running Shoes</td>\n",
       "      <td>Rs. 5399</td>\n",
       "    </tr>\n",
       "    <tr>\n",
       "      <th>99</th>\n",
       "      <td>Heel &amp; Buckle London</td>\n",
       "      <td>Men Black Solid Leather Boat Shoes</td>\n",
       "      <td>Rs. 6293</td>\n",
       "    </tr>\n",
       "  </tbody>\n",
       "</table>\n",
       "<p>100 rows × 3 columns</p>\n",
       "</div>"
      ],
      "text/plain": [
       "                   Brand                                        Description  \\\n",
       "0                   Nike         Men Black Renew Retaliation TR 3 Gym Shoes   \n",
       "1                   Puma         Men Black Cell Fraction Fade Running Shoes   \n",
       "2                   Nike  Men Black & White Blazer Low '77 Vintage Leath...   \n",
       "3           UNDER ARMOUR  Unisex Black Project Rock Recruit BSR Woven De...   \n",
       "4                   Nike                   Men Black Crater Remixa Sneakers   \n",
       "..                   ...                                                ...   \n",
       "95          Kenneth Cole              Men Black Solid Leather Formal Derbys   \n",
       "96        Louis Philippe                  Men Black Leather Formal Slip-Ons   \n",
       "97                  Geox                    Men Black Leather Driving Shoes   \n",
       "98                  Xtep                    Men Black Textile Running Shoes   \n",
       "99  Heel & Buckle London                 Men Black Solid Leather Boat Shoes   \n",
       "\n",
       "       Price  \n",
       "0   Rs. 5995  \n",
       "1   Rs. 6999  \n",
       "2   Rs. 7195  \n",
       "3   Rs. 9999  \n",
       "4   Rs. 5495  \n",
       "..       ...  \n",
       "95  Rs. 6293  \n",
       "96  Rs. 6229  \n",
       "97  Rs. 9999  \n",
       "98  Rs. 5399  \n",
       "99  Rs. 6293  \n",
       "\n",
       "[100 rows x 3 columns]"
      ]
     },
     "execution_count": 214,
     "metadata": {},
     "output_type": "execute_result"
    }
   ],
   "source": [
    "Myntra_shoe=pd.DataFrame({})\n",
    "Myntra_shoe['Brand']=Shoe_brand\n",
    "Myntra_shoe['Description']=Shoe_des\n",
    "Myntra_shoe['Price']=Shoe_price \n",
    "Myntra_shoe"
   ]
  },
  {
   "cell_type": "markdown",
   "metadata": {},
   "source": [
    "Q10: Go to webpage https://www.amazon.in/\n",
    " Enter “Laptop” in the search field and then click the search icon.\n",
    " Then set CPU Type filter to “Intel Core i7” and “Intel Core i9” as shown in the below image\n",
    "After setting the filters scrape first 10 laptops data. You have to scrape 3 attributes \n",
    "for each laptop:\n",
    "1. title\n",
    "2. Ratings\n",
    "3. Price\n",
    "As shown in the below image as the tick marked attributes"
   ]
  },
  {
   "cell_type": "code",
   "execution_count": 144,
   "metadata": {},
   "outputs": [],
   "source": [
    "driver=webdriver.Chrome(r\"chromedriver.exe\")#Get the url page\n",
    "url='https://www.amazon.in/'\n",
    "driver.get(url)"
   ]
  },
  {
   "cell_type": "code",
   "execution_count": 145,
   "metadata": {},
   "outputs": [],
   "source": [
    "search_field=driver.find_element_by_id('twotabsearchtextbox')#Seach field for laptop \n",
    "\n",
    "search_field.send_keys(\"Laptop\")"
   ]
  },
  {
   "cell_type": "code",
   "execution_count": 146,
   "metadata": {},
   "outputs": [],
   "source": [
    "search_btn5=driver.find_element_by_xpath(\"//div[@class='nav-search-submit nav-sprite']\")#Submit search button\n",
    "\n",
    "search_btn5.click()"
   ]
  },
  {
   "cell_type": "code",
   "execution_count": 147,
   "metadata": {},
   "outputs": [],
   "source": [
    "filteri7=driver.find_element_by_xpath(\"//span[text()='Intel Core i7']\")#Filter by text\n",
    "\n",
    "filteri7.click()"
   ]
  },
  {
   "cell_type": "code",
   "execution_count": 148,
   "metadata": {},
   "outputs": [],
   "source": [
    "filteri9=driver.find_element_by_xpath(\"//span[text()='Intel Core i9']\")#Filter by text\n",
    "#search_btn\n",
    "filteri9.click()"
   ]
  },
  {
   "cell_type": "code",
   "execution_count": 149,
   "metadata": {},
   "outputs": [
    {
     "data": {
      "text/plain": [
       "10"
      ]
     },
     "execution_count": 149,
     "metadata": {},
     "output_type": "execute_result"
    }
   ],
   "source": [
    "Laptop_urls=[]#urls for laptops\n",
    "url10=driver.find_elements_by_xpath(\"//h2[@class='a-size-mini a-spacing-none a-color-base s-line-clamp-2']//a\")\n",
    "for i in url10[:10]:\n",
    "    Laptop_urls.append(i.get_attribute('href'))\n",
    "len(Laptop_urls)"
   ]
  },
  {
   "cell_type": "code",
   "execution_count": 16,
   "metadata": {},
   "outputs": [
    {
     "data": {
      "text/plain": [
       "10"
      ]
     },
     "execution_count": 16,
     "metadata": {},
     "output_type": "execute_result"
    }
   ],
   "source": [
    "Title=[]#Scrapping title by xpath\n",
    "for i in Laptop_urls:\n",
    "    driver.get(i)\n",
    "    try:\n",
    "        ti=driver.find_element_by_xpath(\"//h1[@class='a-size-large a-spacing-none']//span\")\n",
    "        Title.append(ti.text)\n",
    "    except:\n",
    "          Title.append('--')\n",
    "        \n",
    "len(Title)"
   ]
  },
  {
   "cell_type": "code",
   "execution_count": 17,
   "metadata": {},
   "outputs": [
    {
     "data": {
      "text/plain": [
       "['Lenovo Legion 7 10th Gen Intel Core i9 15.6 inch Full HD Gaming Laptop (16GB/1TB SSD/Windows 10/MS Office 2019/144 Hz/NVIDIA RTX 2080 8GB GDDR6 Graphics/Slate Grey/2.25Kg), 81YU006HIN',\n",
       " 'Lenovo Yoga 7 11th Gen Intel Core i7-1165G7 14\" (35.56cm) FHD IPS 2-in-1 Touchscreen Laptop (16GB/512GB SSD/Windows 10/MS Office/Lenovo Digital Pen/Fingerprint Reader/Slate Grey/1.43Kg), 82BH004HIN',\n",
       " 'MSI GF65 Thin, Intel i7-10750H, 15.6\" FHD (39.6 cm) IPS-Level 144Hz Panel Laptop (16GB/512GB NVMe SSD/Windows 10 Home/Nvidia GTX1660 Ti 6GB GDDR6/Black/1.86Kg), 10SDR-1280IN',\n",
       " 'HP Pavilion (2021) Thin & Light 11th Gen Core i7 Laptop, 16 GB RAM, 1TB SSD, Iris Xe Graphics, 14\" (35.56cms) FHD Screen, Windows 10, MS Office, Backlit Keyboard (14-dv0058TU)',\n",
       " 'Mi Notebook Horizon Edition 14 Intel Core i7-10510U 10th Gen 14-inch (35.56 cms) Thin and Light Laptop(8GB/512GB SSD/Windows 10/Nvidia MX350 2GB Graphics/Grey/1.35Kg), XMA1904-AF+Webcam',\n",
       " 'ASUS TUF Gaming F15 (2020), 15.6-inch (39.62 cms) FHD 144Hz, Intel Core i7-10870H 10th Gen, NVIDIA GeForce GTX 1650 4GB Graphics, Gaming Laptop(8GB/512GB SSDWindows 10/Gray/2.3 Kg), FX566LH-HN255T',\n",
       " 'Life Digital Laptop 15.6-inch (39.62 cms) (Intel Core i7, 4GB RAM, 256GB SSD, Windows 10), ZED AIR CX7',\n",
       " 'Lenovo IdeaPad Flex 5 11th Gen Intel Core i7 14\"(35.56cm) FHD IPS 2-in-1 Touchscreen Laptop(16GB/512GB SSD/Windows 10/MS Office/Lenovo Digital Pen/Fingerprint Reader/Graphite Grey/1.5Kg), 82HS0092IN',\n",
       " 'Samsung Galaxy Book Flex 13.3” | Samsung Laptop with QLED Display and Intel Core i7 Processor | Galaxy Book Flex Laptop with Long Battery Life and Bluetooth-Enabled S Pen | (NP930QCG-K01US)',\n",
       " '(Renewed) Life Digital Laptop 15.6-inch (39.62 cms) (Intel Core i7, 8GB RAM, 512GB SSD, Windows 10), ZED AIR CX7']"
      ]
     },
     "execution_count": 17,
     "metadata": {},
     "output_type": "execute_result"
    }
   ],
   "source": [
    "Title"
   ]
  },
  {
   "cell_type": "code",
   "execution_count": 47,
   "metadata": {},
   "outputs": [
    {
     "data": {
      "text/plain": [
       "['2.9 out of 5',\n",
       " '4.5 out of 5',\n",
       " '4.3 out of 5',\n",
       " '3.6 out of 5',\n",
       " '4.4 out of 5',\n",
       " '4 out of 5',\n",
       " '4.1 out of 5',\n",
       " '4.5 out of 5',\n",
       " '3 out of 5',\n",
       " '4.4 out of 5']"
      ]
     },
     "execution_count": 47,
     "metadata": {},
     "output_type": "execute_result"
    }
   ],
   "source": [
    "Rating=[]#Scrapping Rating by xpath\n",
    "for i in Laptop_urls:\n",
    "    driver.get(i)\n",
    "    try:\n",
    "        Ra=driver.find_element_by_xpath(\"//span[@class='a-size-medium a-color-base']\")\n",
    "        Rating.append(Ra.text)\n",
    "    except:\n",
    "        pass\n",
    "        \n",
    "Rating"
   ]
  },
  {
   "cell_type": "code",
   "execution_count": 43,
   "metadata": {},
   "outputs": [
    {
     "data": {
      "text/plain": [
       "['₹1,80,990.00',\n",
       " '₹1,07,990.00',\n",
       " '₹84,990.00',\n",
       " '₹81,990.00',\n",
       " '--',\n",
       " '₹71,990.00',\n",
       " '₹1,09,990.00',\n",
       " '₹1,07,990.00',\n",
       " '₹1,29,990.00',\n",
       " '₹82,990.00']"
      ]
     },
     "execution_count": 43,
     "metadata": {},
     "output_type": "execute_result"
    }
   ],
   "source": [
    "Price=[]#Scrapping price by xpath\n",
    "for i in Laptop_urls:\n",
    "    driver.get(i)\n",
    "    try:\n",
    "        pi=driver.find_element_by_xpath(\"//span[@class='a-size-medium a-color-price priceBlockBuyingPriceString']\")\n",
    "        Price.append(pi.text)\n",
    "    except:\n",
    "        Price.append('--')\n",
    "        \n",
    "Price"
   ]
  },
  {
   "cell_type": "code",
   "execution_count": 48,
   "metadata": {},
   "outputs": [
    {
     "data": {
      "text/html": [
       "<div>\n",
       "<style scoped>\n",
       "    .dataframe tbody tr th:only-of-type {\n",
       "        vertical-align: middle;\n",
       "    }\n",
       "\n",
       "    .dataframe tbody tr th {\n",
       "        vertical-align: top;\n",
       "    }\n",
       "\n",
       "    .dataframe thead th {\n",
       "        text-align: right;\n",
       "    }\n",
       "</style>\n",
       "<table border=\"1\" class=\"dataframe\">\n",
       "  <thead>\n",
       "    <tr style=\"text-align: right;\">\n",
       "      <th></th>\n",
       "      <th>Title</th>\n",
       "      <th>Rating</th>\n",
       "      <th>Price</th>\n",
       "    </tr>\n",
       "  </thead>\n",
       "  <tbody>\n",
       "    <tr>\n",
       "      <th>0</th>\n",
       "      <td>Lenovo Legion 7 10th Gen Intel Core i9 15.6 in...</td>\n",
       "      <td>2.9 out of 5</td>\n",
       "      <td>₹1,80,990.00</td>\n",
       "    </tr>\n",
       "    <tr>\n",
       "      <th>1</th>\n",
       "      <td>Lenovo Yoga 7 11th Gen Intel Core i7-1165G7 14...</td>\n",
       "      <td>4.5 out of 5</td>\n",
       "      <td>₹1,07,990.00</td>\n",
       "    </tr>\n",
       "    <tr>\n",
       "      <th>2</th>\n",
       "      <td>MSI GF65 Thin, Intel i7-10750H, 15.6\" FHD (39....</td>\n",
       "      <td>4.3 out of 5</td>\n",
       "      <td>₹84,990.00</td>\n",
       "    </tr>\n",
       "    <tr>\n",
       "      <th>3</th>\n",
       "      <td>HP Pavilion (2021) Thin &amp; Light 11th Gen Core ...</td>\n",
       "      <td>3.6 out of 5</td>\n",
       "      <td>₹81,990.00</td>\n",
       "    </tr>\n",
       "    <tr>\n",
       "      <th>4</th>\n",
       "      <td>Mi Notebook Horizon Edition 14 Intel Core i7-1...</td>\n",
       "      <td>4.4 out of 5</td>\n",
       "      <td>--</td>\n",
       "    </tr>\n",
       "    <tr>\n",
       "      <th>5</th>\n",
       "      <td>ASUS TUF Gaming F15 (2020), 15.6-inch (39.62 c...</td>\n",
       "      <td>4 out of 5</td>\n",
       "      <td>₹71,990.00</td>\n",
       "    </tr>\n",
       "    <tr>\n",
       "      <th>6</th>\n",
       "      <td>Life Digital Laptop 15.6-inch (39.62 cms) (Int...</td>\n",
       "      <td>4.1 out of 5</td>\n",
       "      <td>₹1,09,990.00</td>\n",
       "    </tr>\n",
       "    <tr>\n",
       "      <th>7</th>\n",
       "      <td>Lenovo IdeaPad Flex 5 11th Gen Intel Core i7 1...</td>\n",
       "      <td>4.5 out of 5</td>\n",
       "      <td>₹1,07,990.00</td>\n",
       "    </tr>\n",
       "    <tr>\n",
       "      <th>8</th>\n",
       "      <td>Samsung Galaxy Book Flex 13.3” | Samsung Lapto...</td>\n",
       "      <td>3 out of 5</td>\n",
       "      <td>₹1,29,990.00</td>\n",
       "    </tr>\n",
       "    <tr>\n",
       "      <th>9</th>\n",
       "      <td>(Renewed) Life Digital Laptop 15.6-inch (39.62...</td>\n",
       "      <td>4.4 out of 5</td>\n",
       "      <td>₹82,990.00</td>\n",
       "    </tr>\n",
       "  </tbody>\n",
       "</table>\n",
       "</div>"
      ],
      "text/plain": [
       "                                               Title        Rating  \\\n",
       "0  Lenovo Legion 7 10th Gen Intel Core i9 15.6 in...  2.9 out of 5   \n",
       "1  Lenovo Yoga 7 11th Gen Intel Core i7-1165G7 14...  4.5 out of 5   \n",
       "2  MSI GF65 Thin, Intel i7-10750H, 15.6\" FHD (39....  4.3 out of 5   \n",
       "3  HP Pavilion (2021) Thin & Light 11th Gen Core ...  3.6 out of 5   \n",
       "4  Mi Notebook Horizon Edition 14 Intel Core i7-1...  4.4 out of 5   \n",
       "5  ASUS TUF Gaming F15 (2020), 15.6-inch (39.62 c...    4 out of 5   \n",
       "6  Life Digital Laptop 15.6-inch (39.62 cms) (Int...  4.1 out of 5   \n",
       "7  Lenovo IdeaPad Flex 5 11th Gen Intel Core i7 1...  4.5 out of 5   \n",
       "8  Samsung Galaxy Book Flex 13.3” | Samsung Lapto...    3 out of 5   \n",
       "9  (Renewed) Life Digital Laptop 15.6-inch (39.62...  4.4 out of 5   \n",
       "\n",
       "          Price  \n",
       "0  ₹1,80,990.00  \n",
       "1  ₹1,07,990.00  \n",
       "2    ₹84,990.00  \n",
       "3    ₹81,990.00  \n",
       "4            --  \n",
       "5    ₹71,990.00  \n",
       "6  ₹1,09,990.00  \n",
       "7  ₹1,07,990.00  \n",
       "8  ₹1,29,990.00  \n",
       "9    ₹82,990.00  "
      ]
     },
     "execution_count": 48,
     "metadata": {},
     "output_type": "execute_result"
    }
   ],
   "source": [
    "AmazonData=pd.DataFrame({})#Making dataframe\n",
    "AmazonData['Title']=Title\n",
    "AmazonData['Rating']=Rating\n",
    "AmazonData['Price']=Price\n",
    "AmazonData\n"
   ]
  },
  {
   "cell_type": "code",
   "execution_count": null,
   "metadata": {},
   "outputs": [],
   "source": []
  },
  {
   "cell_type": "code",
   "execution_count": null,
   "metadata": {},
   "outputs": [],
   "source": []
  }
 ],
 "metadata": {
  "kernelspec": {
   "display_name": "Python 3",
   "language": "python",
   "name": "python3"
  },
  "language_info": {
   "codemirror_mode": {
    "name": "ipython",
    "version": 3
   },
   "file_extension": ".py",
   "mimetype": "text/x-python",
   "name": "python",
   "nbconvert_exporter": "python",
   "pygments_lexer": "ipython3",
   "version": "3.7.3"
  }
 },
 "nbformat": 4,
 "nbformat_minor": 2
}
